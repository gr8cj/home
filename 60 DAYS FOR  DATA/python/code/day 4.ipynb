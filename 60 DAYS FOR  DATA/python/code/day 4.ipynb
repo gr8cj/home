{
 "cells": [
  {
   "cell_type": "code",
   "execution_count": 17,
   "id": "6c7759c2-474e-430c-b03e-7779ae045896",
   "metadata": {},
   "outputs": [],
   "source": [
    "# for loop\n",
    "# 2d list itrate\n",
    "# translator\n",
    "# comments\n"
   ]
  },
  {
   "cell_type": "code",
   "execution_count": 27,
   "id": "07a04032-a639-4126-b234-19e09d87a4ac",
   "metadata": {},
   "outputs": [
    {
     "name": "stdin",
     "output_type": "stream",
     "text": [
      "enter your guess h\n",
      "enter your guess \n",
      "enter your guess \n"
     ]
    },
    {
     "name": "stdout",
     "output_type": "stream",
     "text": [
      "out of guess\n"
     ]
    }
   ],
   "source": [
    "sec_word=\"giraffe\"\n",
    "guess_limit=3\n",
    "guess_count=0\n",
    "out_of_guess=False\n",
    "guess=\"\"\n",
    "\n",
    "while guess !=sec_word and not(out_of_guess):\n",
    "    if guess_count < guess_limit :\n",
    "        guess=input(\"enter your guess\")\n",
    "        guess_count+=1\n",
    "    else:\n",
    "        out_of_guess=True\n",
    "\n",
    "if out_of_guess:\n",
    "    print(\"out of guess\")\n",
    "\n",
    "else:\n",
    "    print(\"you won broooo\")\n",
    "\n",
    "    \n",
    "\n"
   ]
  },
  {
   "cell_type": "code",
   "execution_count": 6,
   "id": "24628fe4-4605-43f7-a376-7d5e6bbf212d",
   "metadata": {},
   "outputs": [
    {
     "name": "stdout",
     "output_type": "stream",
     "text": [
      "G  \n",
      "i  \n",
      "r  \n",
      "a  \n",
      "f  \n",
      "f  \n",
      "e  \n",
      "   \n",
      "a  \n",
      "c  \n",
      "a  \n",
      "d  \n",
      "e  \n",
      "m  \n",
      "y  \n"
     ]
    }
   ],
   "source": [
    "for letter in \"Giraffe academy\":   # print each and every letter of giraffe fd\n",
    "    \n",
    "    print(letter)"
   ]
  },
  {
   "cell_type": "code",
   "execution_count": 8,
   "id": "cc8b9b80-b8e2-4f7e-b0f8-6822f727a5d1",
   "metadata": {},
   "outputs": [
    {
     "name": "stdout",
     "output_type": "stream",
     "text": [
      "jin\n",
      "keren\n",
      "kevin\n"
     ]
    }
   ],
   "source": [
    "firends=[\"jin\",\"keren\",\"kevin\"]\n",
    "for name in firends:\n",
    "    print(name)"
   ]
  },
  {
   "cell_type": "code",
   "execution_count": 9,
   "id": "734cbde8-9e30-491a-b99c-8e8ab5064bc8",
   "metadata": {},
   "outputs": [
    {
     "name": "stdout",
     "output_type": "stream",
     "text": [
      "0\n",
      "1\n",
      "2\n",
      "3\n",
      "4\n",
      "5\n",
      "6\n",
      "7\n",
      "8\n",
      "9\n",
      "10\n"
     ]
    }
   ],
   "source": [
    "for i in range(11):\n",
    "    print(i)"
   ]
  },
  {
   "cell_type": "code",
   "execution_count": 11,
   "id": "a3a5e5f9-43ae-4a26-aaed-36c855f5e177",
   "metadata": {},
   "outputs": [
    {
     "name": "stdout",
     "output_type": "stream",
     "text": [
      "jin\n",
      "keren\n",
      "kevin\n"
     ]
    }
   ],
   "source": [
    "firends=[\"jin\",\"keren\",\"kevin\"]\n",
    "for i in range(len(firends)):\n",
    "    print(firends[i])"
   ]
  },
  {
   "cell_type": "code",
   "execution_count": 13,
   "id": "f1fd0bb6-3c10-4fb2-ac67-5ab835a39189",
   "metadata": {},
   "outputs": [
    {
     "name": "stdout",
     "output_type": "stream",
     "text": [
      "first iteration\n",
      "not firt\n",
      "not firt\n",
      "not firt\n",
      "not firt\n"
     ]
    }
   ],
   "source": [
    "for i in range(5):\n",
    "    if i ==0:\n",
    "        print(\"first iteration\")\n",
    "    else:\n",
    "        print(\"not firt\")"
   ]
  },
  {
   "cell_type": "code",
   "execution_count": 15,
   "id": "613677fd-93b9-4b4f-82ed-1224532aadb0",
   "metadata": {},
   "outputs": [
    {
     "name": "stdout",
     "output_type": "stream",
     "text": [
      "81\n"
     ]
    }
   ],
   "source": [
    "def raise_to_power(base_num,pow_num):\n",
    "    result=1\n",
    "    for i in range(pow_num):\n",
    "        result=result*base_num\n",
    "\n",
    "    return result  \n",
    "\n",
    "print(raise_to_power(3,4))"
   ]
  },
  {
   "cell_type": "code",
   "execution_count": null,
   "id": "ccae221d-4437-4497-9d2e-a05b1dc2696d",
   "metadata": {},
   "outputs": [],
   "source": []
  },
  {
   "cell_type": "code",
   "execution_count": null,
   "id": "05cf39e5-c96f-40af-9f2f-cc2d360a1e66",
   "metadata": {},
   "outputs": [],
   "source": []
  },
  {
   "cell_type": "code",
   "execution_count": 16,
   "id": "1ac171f9-e6c3-4201-83d7-98cbbd57aa53",
   "metadata": {},
   "outputs": [
    {
     "data": {
      "text/plain": [
       "81"
      ]
     },
     "execution_count": 16,
     "metadata": {},
     "output_type": "execute_result"
    }
   ],
   "source": [
    "# how to find square withount unding square \n",
    "\n",
    "\n",
    "def power(base,power):\n",
    "    result=1\n",
    "    for i in range(power):\n",
    "        result=result*base\n",
    "    return result\n",
    "\n",
    "power(3,4)"
   ]
  },
  {
   "cell_type": "code",
   "execution_count": 19,
   "id": "b2a5d8dc-a1a8-4b41-8a4c-d96618bc9ee1",
   "metadata": {},
   "outputs": [],
   "source": [
    "number_grid=[\n",
    "    [1,2,3],\n",
    "    [4,5,6],\n",
    "    [7,8,9],\n",
    "    [0]\n",
    "]"
   ]
  },
  {
   "cell_type": "code",
   "execution_count": 24,
   "id": "113947fb-071a-4c37-a5f6-51670d78606f",
   "metadata": {},
   "outputs": [
    {
     "name": "stdout",
     "output_type": "stream",
     "text": [
      "9\n"
     ]
    }
   ],
   "source": [
    "print(number_grid[2][2])"
   ]
  },
  {
   "cell_type": "code",
   "execution_count": 26,
   "id": "5e78d54d-792c-44cb-8b5e-9faad0c8aa59",
   "metadata": {},
   "outputs": [
    {
     "name": "stdout",
     "output_type": "stream",
     "text": [
      "[1, 2, 3]\n",
      "[4, 5, 6]\n",
      "[7, 8, 9]\n",
      "[0]\n"
     ]
    }
   ],
   "source": [
    "for row in number_grid:\n",
    "    print(row)"
   ]
  },
  {
   "cell_type": "code",
   "execution_count": 28,
   "id": "c7858d25-8952-431c-93ec-060acb134cc9",
   "metadata": {},
   "outputs": [
    {
     "name": "stdout",
     "output_type": "stream",
     "text": [
      "1\n",
      "2\n",
      "3\n",
      "4\n",
      "5\n",
      "6\n",
      "7\n",
      "8\n",
      "9\n",
      "0\n"
     ]
    }
   ],
   "source": [
    "for row in number_grid:\n",
    "    for col in row:\n",
    "        print(col)"
   ]
  },
  {
   "cell_type": "code",
   "execution_count": 30,
   "id": "bd3bb2b8-d7ac-43ad-96db-96c18f43fe52",
   "metadata": {},
   "outputs": [
    {
     "name": "stdout",
     "output_type": "stream",
     "text": [
      "hgg my dgg gs fggl\n"
     ]
    }
   ],
   "source": [
    "def translate(phrase):\n",
    "    translation=\"\"\n",
    "    for letter in phrase:\n",
    "        if letter in \"AEIOUaeiou\":\n",
    "            translation=translation +\"g\"\n",
    "        else :\n",
    "            translation=translation + letter\n",
    "    return translation\n",
    "\n",
    "print(translate(\"hii my dog is fool\"))"
   ]
  },
  {
   "cell_type": "code",
   "execution_count": 33,
   "id": "27c807a2-751f-473d-ac6e-7963c8ad21b0",
   "metadata": {},
   "outputs": [
    {
     "name": "stdout",
     "output_type": "stream",
     "text": [
      "Gn\n"
     ]
    }
   ],
   "source": [
    "def translate(phrase):\n",
    "    translation=\"\"\n",
    "    for letter in phrase:\n",
    "        if letter.lower() in \"aeiou\":\n",
    "            if letter.isupper():\n",
    "                translation=translation +\"G\"\n",
    "            else:\n",
    "                translation=translation +\"g\"\n",
    "        else :\n",
    "            translation=translation + letter\n",
    "    return translation\n",
    "\n",
    "print(translate(\"On\"))"
   ]
  },
  {
   "cell_type": "code",
   "execution_count": null,
   "id": "c2adfd6d-9c52-42ba-92a3-ba4b6e846319",
   "metadata": {},
   "outputs": [],
   "source": []
  },
  {
   "cell_type": "code",
   "execution_count": null,
   "id": "42fd1879-46f4-4426-b6b5-1a2c2d35c586",
   "metadata": {},
   "outputs": [],
   "source": []
  }
 ],
 "metadata": {
  "kernelspec": {
   "display_name": "Python 3 (ipykernel)",
   "language": "python",
   "name": "python3"
  },
  "language_info": {
   "codemirror_mode": {
    "name": "ipython",
    "version": 3
   },
   "file_extension": ".py",
   "mimetype": "text/x-python",
   "name": "python",
   "nbconvert_exporter": "python",
   "pygments_lexer": "ipython3",
   "version": "3.12.7"
  }
 },
 "nbformat": 4,
 "nbformat_minor": 5
}
