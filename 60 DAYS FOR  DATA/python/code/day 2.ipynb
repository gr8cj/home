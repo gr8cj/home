{
 "cells": [
  {
   "cell_type": "code",
   "execution_count": 14,
   "id": "6b6f1f16-367a-4495-ada0-4c6c5e248e72",
   "metadata": {},
   "outputs": [],
   "source": [
    "from math import *"
   ]
  },
  {
   "cell_type": "code",
   "execution_count": null,
   "id": "1d16363b-240d-421c-8bcb-9a6a4fa1b4cd",
   "metadata": {},
   "outputs": [],
   "source": [
    "# data type number\n",
    "# getiing input your name\n",
    "# + list\n"
   ]
  },
  {
   "cell_type": "code",
   "execution_count": null,
   "id": "2d064b92-f0a3-40bc-83a8-9c1998a5b7cc",
   "metadata": {},
   "outputs": [],
   "source": []
  },
  {
   "cell_type": "code",
   "execution_count": 1,
   "id": "ffc5ba65-5ddb-429f-bfde-c4c6a758e19b",
   "metadata": {},
   "outputs": [
    {
     "name": "stdout",
     "output_type": "stream",
     "text": [
      "2\n"
     ]
    }
   ],
   "source": [
    "\n",
    "\n",
    "print(2)"
   ]
  },
  {
   "cell_type": "code",
   "execution_count": 2,
   "id": "f28d4da0-f1b3-4779-9ce9-2aff43f4738c",
   "metadata": {},
   "outputs": [
    {
     "name": "stdout",
     "output_type": "stream",
     "text": [
      "2.2\n"
     ]
    }
   ],
   "source": [
    "print(2.2)"
   ]
  },
  {
   "cell_type": "code",
   "execution_count": 3,
   "id": "0fa97384-1e05-42b9-aa7d-f006ce4fbf3b",
   "metadata": {},
   "outputs": [
    {
     "name": "stdout",
     "output_type": "stream",
     "text": [
      "6\n"
     ]
    }
   ],
   "source": [
    "print(2+4)"
   ]
  },
  {
   "cell_type": "code",
   "execution_count": 4,
   "id": "326e2317-9322-457b-9427-9aeb54877e05",
   "metadata": {},
   "outputs": [
    {
     "name": "stdout",
     "output_type": "stream",
     "text": [
      "17\n"
     ]
    }
   ],
   "source": [
    "print(3*4+5)"
   ]
  },
  {
   "cell_type": "code",
   "execution_count": 6,
   "id": "0462268d-3203-49ab-96a1-56a3b1968ebd",
   "metadata": {},
   "outputs": [
    {
     "name": "stdout",
     "output_type": "stream",
     "text": [
      "27\n"
     ]
    }
   ],
   "source": [
    "print(3*(4+5))"
   ]
  },
  {
   "cell_type": "code",
   "execution_count": 7,
   "id": "2f4bd441-3110-4f5d-bbf0-6de5be5df86f",
   "metadata": {},
   "outputs": [
    {
     "name": "stdout",
     "output_type": "stream",
     "text": [
      "1\n"
     ]
    }
   ],
   "source": [
    "print(10%3)"
   ]
  },
  {
   "cell_type": "code",
   "execution_count": 8,
   "id": "f3c6fbd0-2f09-4cbc-bebb-1a3168400860",
   "metadata": {},
   "outputs": [
    {
     "name": "stdout",
     "output_type": "stream",
     "text": [
      "5\n"
     ]
    }
   ],
   "source": [
    "# variable\n",
    "my_num=5\n",
    "print(my_num)\n",
    "print(str(my_num))  # change the data type to string "
   ]
  },
  {
   "cell_type": "code",
   "execution_count": 9,
   "id": "8bdbcebb-681e-4eab-a087-5b357b549bc9",
   "metadata": {},
   "outputs": [
    {
     "name": "stdout",
     "output_type": "stream",
     "text": [
      "5\n"
     ]
    }
   ],
   "source": [
    "my_num=-5\n",
    "print(abs(my_num))"
   ]
  },
  {
   "cell_type": "code",
   "execution_count": 10,
   "id": "03445c8c-4784-4f33-9e69-e82b43e6a543",
   "metadata": {},
   "outputs": [
    {
     "name": "stdout",
     "output_type": "stream",
     "text": [
      "729\n"
     ]
    }
   ],
   "source": [
    "print(pow(3,6))"
   ]
  },
  {
   "cell_type": "code",
   "execution_count": 11,
   "id": "5b8f99c7-54ee-47d7-a9bf-93fdd5fe654c",
   "metadata": {},
   "outputs": [
    {
     "name": "stdout",
     "output_type": "stream",
     "text": [
      "9\n"
     ]
    }
   ],
   "source": [
    "print(max(8,9))"
   ]
  },
  {
   "cell_type": "code",
   "execution_count": 12,
   "id": "8db5757a-1f92-4238-96fb-2eec62345605",
   "metadata": {},
   "outputs": [
    {
     "name": "stdout",
     "output_type": "stream",
     "text": [
      "0\n"
     ]
    }
   ],
   "source": [
    "print(min(9,00))"
   ]
  },
  {
   "cell_type": "code",
   "execution_count": 13,
   "id": "6297134f-04db-4b68-bffc-bf865dd17d79",
   "metadata": {},
   "outputs": [
    {
     "name": "stdout",
     "output_type": "stream",
     "text": [
      "4\n"
     ]
    }
   ],
   "source": [
    "print(round(3.9))"
   ]
  },
  {
   "cell_type": "code",
   "execution_count": 15,
   "id": "75661b7a-3aaf-45f3-b262-68c7d0f120b4",
   "metadata": {},
   "outputs": [
    {
     "name": "stdout",
     "output_type": "stream",
     "text": [
      "3\n"
     ]
    }
   ],
   "source": [
    "print(floor(3.7))"
   ]
  },
  {
   "cell_type": "code",
   "execution_count": 16,
   "id": "e20fe82a-d341-4529-bffa-07fab492b05a",
   "metadata": {},
   "outputs": [
    {
     "name": "stdout",
     "output_type": "stream",
     "text": [
      "4\n"
     ]
    }
   ],
   "source": [
    "print(ceil(3.1))"
   ]
  },
  {
   "cell_type": "code",
   "execution_count": 17,
   "id": "9e083c70-5aec-4fad-8094-6fc140a52f54",
   "metadata": {},
   "outputs": [
    {
     "name": "stdout",
     "output_type": "stream",
     "text": [
      "3.0\n"
     ]
    }
   ],
   "source": [
    "print(sqrt(9))"
   ]
  },
  {
   "cell_type": "markdown",
   "id": "034ad801-ab2f-452d-865d-c76ac4c8d0c9",
   "metadata": {},
   "source": [
    "### GET INPUT FROM USER"
   ]
  },
  {
   "cell_type": "code",
   "execution_count": 18,
   "id": "ae81c583-a11b-47ad-9195-efa0ae60ae6a",
   "metadata": {},
   "outputs": [
    {
     "name": "stdin",
     "output_type": "stream",
     "text": [
      " hh\n"
     ]
    },
    {
     "data": {
      "text/plain": [
       "'hh'"
      ]
     },
     "execution_count": 18,
     "metadata": {},
     "output_type": "execute_result"
    }
   ],
   "source": [
    "input()"
   ]
  },
  {
   "cell_type": "code",
   "execution_count": 19,
   "id": "282aceff-4bc4-4c17-94cd-0eafc5f8f222",
   "metadata": {},
   "outputs": [
    {
     "name": "stdin",
     "output_type": "stream",
     "text": [
      "Enter your name ayushja\n"
     ]
    },
    {
     "data": {
      "text/plain": [
       "'ayushja'"
      ]
     },
     "execution_count": 19,
     "metadata": {},
     "output_type": "execute_result"
    }
   ],
   "source": [
    "input(\"Enter your name\")"
   ]
  },
  {
   "cell_type": "code",
   "execution_count": 20,
   "id": "174ad5bd-7c74-4c17-ba6a-9ecd3439404c",
   "metadata": {},
   "outputs": [
    {
     "name": "stdin",
     "output_type": "stream",
     "text": [
      "Enter your name Ayush jha\n"
     ]
    },
    {
     "name": "stdout",
     "output_type": "stream",
     "text": [
      "Hello Ayush jha!\n"
     ]
    }
   ],
   "source": [
    "name=input(\"Enter your name\")\n",
    "print(\"Hello \" + name+ \"!\")"
   ]
  },
  {
   "cell_type": "code",
   "execution_count": 23,
   "id": "6ea7d156-223b-4242-8520-0baeaebdd7e4",
   "metadata": {},
   "outputs": [
    {
     "name": "stdin",
     "output_type": "stream",
     "text": [
      "Enter your name ayush jha\n",
      "Enter your age 22\n"
     ]
    },
    {
     "name": "stdout",
     "output_type": "stream",
     "text": [
      "Hello ayush jha! \n",
      " your  age is 22 !\n"
     ]
    }
   ],
   "source": [
    "name=input(\"Enter your name\")\n",
    "age=input(\"Enter your age\")\n",
    "print(\"Hello \" + name+ \"! \\n your  age is \" +age +\" !\" )"
   ]
  },
  {
   "cell_type": "markdown",
   "id": "3a2d14c5-a660-4b66-bb88-98531ffb5e63",
   "metadata": {},
   "source": [
    "### CREATE A CALCULATOR"
   ]
  },
  {
   "cell_type": "code",
   "execution_count": 25,
   "id": "828b4aa1-6266-403e-a76a-1dc121434f29",
   "metadata": {},
   "outputs": [
    {
     "name": "stdin",
     "output_type": "stream",
     "text": [
      "Enter your number 5\n",
      "Enter your numebr2 9\n"
     ]
    },
    {
     "name": "stdout",
     "output_type": "stream",
     "text": [
      "59\n"
     ]
    }
   ],
   "source": [
    "num1=input(\"Enter your number\")\n",
    "num2=input(\"Enter your numebr2\")\n",
    "result=num1+num2\n",
    "print(result)"
   ]
  },
  {
   "cell_type": "code",
   "execution_count": 28,
   "id": "c14f0a19-04bd-4cb5-80b5-05337f448446",
   "metadata": {},
   "outputs": [
    {
     "name": "stdin",
     "output_type": "stream",
     "text": [
      "Enter your number 9\n",
      "Enter your numebr2 6\n"
     ]
    },
    {
     "name": "stdout",
     "output_type": "stream",
     "text": [
      "15\n"
     ]
    }
   ],
   "source": [
    "num1=input(\"Enter your number\")\n",
    "num2=input(\"Enter your numebr2\")\n",
    "result=int(num1)+int(num2)\n",
    "print(result)"
   ]
  },
  {
   "cell_type": "code",
   "execution_count": 29,
   "id": "83951968-a658-47e4-9f7f-380a06033ef6",
   "metadata": {},
   "outputs": [],
   "source": [
    "# print(\"Roses are red\")\n",
    "# print(\"Voilet are blue\")\n",
    "# print(\"I love you\")\n",
    "\n",
    "\n",
    "# print(\"Roses are {color}\")\n",
    "# print(\"{plural noun} are blue\")\n",
    "# print(\"I love {Celebraty}\")\n"
   ]
  },
  {
   "cell_type": "code",
   "execution_count": 31,
   "id": "791e82ac-438d-4d5d-9e8e-510e26c7fb32",
   "metadata": {},
   "outputs": [
    {
     "name": "stdin",
     "output_type": "stream",
     "text": [
      "enter your color 55\n",
      "enter your plural_noun \n",
      "enter your Celebraty 5\n"
     ]
    },
    {
     "name": "stdout",
     "output_type": "stream",
     "text": [
      "Roses are55\n",
      " are blue\n",
      "I love 5\n"
     ]
    }
   ],
   "source": [
    "color=input(\"enter your color\")\n",
    "plural_noun=input(\"enter your plural_noun\")\n",
    "Celebraty=input(\"enter your Celebraty\")\n",
    "\n",
    "print(\"Roses are\"+ color)\n",
    "print(plural_noun +\" are blue\")\n",
    "print(\"I love \" + Celebraty)"
   ]
  },
  {
   "cell_type": "markdown",
   "id": "09b8a4ea-8da8-4fa5-bc5b-db6a26dedee2",
   "metadata": {},
   "source": [
    "###   ------------------------                               LIST"
   ]
  },
  {
   "cell_type": "code",
   "execution_count": 40,
   "id": "bae4463a-96f9-4432-adb9-620fa90b5c40",
   "metadata": {},
   "outputs": [],
   "source": [
    "friends=[\"suyash\",\"rahul\",\"depak\",\"aditiya\",\"jim\",\"toby\"]\n",
    "            # 0       1       2       3\n"
   ]
  },
  {
   "cell_type": "code",
   "execution_count": 41,
   "id": "87b4ae49-328c-4f4f-9638-1d1704a7a9c8",
   "metadata": {},
   "outputs": [
    {
     "name": "stdout",
     "output_type": "stream",
     "text": [
      "['suyash', 'rahul', 'depak', 'aditiya', 'jim', 'toby']\n"
     ]
    }
   ],
   "source": [
    "print(friends)"
   ]
  },
  {
   "cell_type": "code",
   "execution_count": 42,
   "id": "5d10557a-78f5-455a-a1b7-28e815516eb2",
   "metadata": {},
   "outputs": [
    {
     "name": "stdout",
     "output_type": "stream",
     "text": [
      "aditiya\n"
     ]
    }
   ],
   "source": [
    "print(friends[3])"
   ]
  },
  {
   "cell_type": "code",
   "execution_count": 43,
   "id": "7c815b35-0028-437f-821a-d4bbb07a2622",
   "metadata": {},
   "outputs": [
    {
     "name": "stdout",
     "output_type": "stream",
     "text": [
      "jim\n"
     ]
    }
   ],
   "source": [
    "print(friends[-2])"
   ]
  },
  {
   "cell_type": "code",
   "execution_count": 44,
   "id": "8498d479-bfa7-4f75-9e25-f309b045f6a3",
   "metadata": {},
   "outputs": [
    {
     "name": "stdout",
     "output_type": "stream",
     "text": [
      "['rahul', 'depak', 'aditiya', 'jim', 'toby']\n"
     ]
    }
   ],
   "source": [
    "print(friends[1:])"
   ]
  },
  {
   "cell_type": "code",
   "execution_count": 45,
   "id": "3ad7d655-00a4-4984-88fc-6c6177b3fc36",
   "metadata": {},
   "outputs": [
    {
     "name": "stdout",
     "output_type": "stream",
     "text": [
      "['suyash', 'rahul', 'depak']\n"
     ]
    }
   ],
   "source": [
    "print(friends[:3])"
   ]
  },
  {
   "cell_type": "code",
   "execution_count": 46,
   "id": "d73b9d1b-1135-45bd-9992-d2a671f3e4e1",
   "metadata": {},
   "outputs": [
    {
     "name": "stdout",
     "output_type": "stream",
     "text": [
      "['mike', 'depak', 'aditiya', 'jim', 'toby']\n"
     ]
    }
   ],
   "source": [
    "friends[1]=\"mike\"\n",
    "\n",
    "\n",
    "\n",
    "\n",
    "print(friends[1:])"
   ]
  },
  {
   "cell_type": "markdown",
   "id": "8adcbfc5-31d9-4e49-92d5-038c1b339870",
   "metadata": {},
   "source": [
    "### ------- LIST FUNCTION------"
   ]
  },
  {
   "cell_type": "code",
   "execution_count": 73,
   "id": "3a3f6b55-6b25-40cf-ae7b-8a2e229af3c2",
   "metadata": {},
   "outputs": [],
   "source": [
    "luckey_numbers=[4,8,16,23,42]\n",
    "friends=['mike', 'depak', 'aditiya', 'jim', 'toby',\"jake\"]"
   ]
  },
  {
   "cell_type": "code",
   "execution_count": 61,
   "id": "c77a112d-281f-4fc6-9a55-e3db3064aaf5",
   "metadata": {},
   "outputs": [
    {
     "name": "stdout",
     "output_type": "stream",
     "text": [
      "['mike', 'depak', 'aditiya', 'jim', 'toby', 'jake']\n"
     ]
    }
   ],
   "source": [
    "print(friends)"
   ]
  },
  {
   "cell_type": "code",
   "execution_count": 62,
   "id": "30162c81-00e5-44c6-8aae-679631a881e7",
   "metadata": {},
   "outputs": [],
   "source": [
    "friends.extend(luckey_numbers)"
   ]
  },
  {
   "cell_type": "code",
   "execution_count": 63,
   "id": "f0e186e1-97fb-449d-a36b-3cefa82f6f7b",
   "metadata": {},
   "outputs": [
    {
     "name": "stdout",
     "output_type": "stream",
     "text": [
      "['mike', 'depak', 'aditiya', 'jim', 'toby', 'jake', 4, 8, 16, 23, 42]\n"
     ]
    }
   ],
   "source": [
    "print(friends)"
   ]
  },
  {
   "cell_type": "code",
   "execution_count": 64,
   "id": "a1fb8053-b055-4835-b0ab-e8b3bed0611e",
   "metadata": {},
   "outputs": [],
   "source": [
    "friends.append(\"Creed\")\n"
   ]
  },
  {
   "cell_type": "code",
   "execution_count": 65,
   "id": "1fda2a21-1a09-4970-a69e-8003e1870639",
   "metadata": {},
   "outputs": [
    {
     "name": "stdout",
     "output_type": "stream",
     "text": [
      "['mike', 'depak', 'aditiya', 'jim', 'toby', 'jake', 4, 8, 16, 23, 42, 'Creed']\n"
     ]
    }
   ],
   "source": [
    "print(friends)"
   ]
  },
  {
   "cell_type": "code",
   "execution_count": 66,
   "id": "b8f1a8d8-57b2-4dce-aa70-01e7c5753102",
   "metadata": {},
   "outputs": [],
   "source": [
    "friends.insert(1,\"Kelly\")"
   ]
  },
  {
   "cell_type": "code",
   "execution_count": 67,
   "id": "d4dc0b88-448b-4d6f-baf8-d2591b7bdd44",
   "metadata": {},
   "outputs": [
    {
     "name": "stdout",
     "output_type": "stream",
     "text": [
      "['mike', 'Kelly', 'depak', 'aditiya', 'jim', 'toby', 'jake', 4, 8, 16, 23, 42, 'Creed']\n"
     ]
    }
   ],
   "source": [
    "print(friends)"
   ]
  },
  {
   "cell_type": "code",
   "execution_count": 68,
   "id": "e3bd179e-932e-4c19-ad0a-af664d3a67be",
   "metadata": {},
   "outputs": [],
   "source": [
    "\n",
    "friends.remove(\"jake\")"
   ]
  },
  {
   "cell_type": "code",
   "execution_count": 69,
   "id": "71424711-5f66-4cb4-bf83-8eba4b515bc8",
   "metadata": {},
   "outputs": [
    {
     "name": "stdout",
     "output_type": "stream",
     "text": [
      "['mike', 'Kelly', 'depak', 'aditiya', 'jim', 'toby', 4, 8, 16, 23, 42, 'Creed']\n"
     ]
    }
   ],
   "source": [
    "print(friends)"
   ]
  },
  {
   "cell_type": "code",
   "execution_count": 58,
   "id": "8ca628a3-0837-4a28-a354-e4ac19ecc267",
   "metadata": {},
   "outputs": [],
   "source": [
    "friends.clear()"
   ]
  },
  {
   "cell_type": "code",
   "execution_count": 70,
   "id": "87e29163-4473-428f-974a-815836577132",
   "metadata": {},
   "outputs": [
    {
     "data": {
      "text/plain": [
       "'Creed'"
      ]
     },
     "execution_count": 70,
     "metadata": {},
     "output_type": "execute_result"
    }
   ],
   "source": [
    "friends.pop()"
   ]
  },
  {
   "cell_type": "code",
   "execution_count": 71,
   "id": "673aab7d-2eef-4b57-9eeb-8f9ad40091a0",
   "metadata": {},
   "outputs": [
    {
     "name": "stdout",
     "output_type": "stream",
     "text": [
      "2\n"
     ]
    }
   ],
   "source": [
    "print(friends.index(\"depak\"))"
   ]
  },
  {
   "cell_type": "code",
   "execution_count": 74,
   "id": "b2a49c83-2423-4ed2-ba59-e14be3bf0dbc",
   "metadata": {},
   "outputs": [
    {
     "name": "stdout",
     "output_type": "stream",
     "text": [
      "['aditiya', 'depak', 'jake', 'jim', 'mike', 'toby']\n"
     ]
    }
   ],
   "source": [
    "friends.sort() # accending \n",
    "print(friends)"
   ]
  },
  {
   "cell_type": "code",
   "execution_count": 77,
   "id": "5cb26b3c-c2bd-4efe-b256-01c525e9163d",
   "metadata": {},
   "outputs": [
    {
     "name": "stdout",
     "output_type": "stream",
     "text": [
      "[4, 8, 16, 23, 42]\n"
     ]
    }
   ],
   "source": [
    "luckey_numbers.reverse()\n",
    "print(luckey_numbers)"
   ]
  },
  {
   "cell_type": "code",
   "execution_count": 78,
   "id": "3cc8165f-08f2-45c6-a93c-7eeb859dc908",
   "metadata": {},
   "outputs": [],
   "source": [
    "friends2=friends.copy()"
   ]
  },
  {
   "cell_type": "code",
   "execution_count": 80,
   "id": "a8451058-9026-4606-a34d-50c6a5498bb9",
   "metadata": {},
   "outputs": [
    {
     "data": {
      "text/plain": [
       "['aditiya', 'depak', 'jake', 'jim', 'mike', 'toby']"
      ]
     },
     "execution_count": 80,
     "metadata": {},
     "output_type": "execute_result"
    }
   ],
   "source": [
    "friends2"
   ]
  },
  {
   "cell_type": "markdown",
   "id": "58319c7c-cbe9-4baf-8cf3-664bc6505dd1",
   "metadata": {},
   "source": [
    "### --------TOUPLE ( , , )  --------   immutable"
   ]
  },
  {
   "cell_type": "code",
   "execution_count": null,
   "id": "4f5f192d-946f-4474-b037-8c3940d2b89f",
   "metadata": {},
   "outputs": [],
   "source": []
  },
  {
   "cell_type": "code",
   "execution_count": 83,
   "id": "aed60936-369a-4be2-a070-f8abf1bc6dbb",
   "metadata": {},
   "outputs": [
    {
     "name": "stdout",
     "output_type": "stream",
     "text": [
      "4\n"
     ]
    }
   ],
   "source": [
    "CORDINATER=(4,5)  \n",
    "print(CORDINATER[0])"
   ]
  },
  {
   "cell_type": "markdown",
   "id": "5947ca49-a746-4574-8227-2090d701038c",
   "metadata": {},
   "source": [
    "### --------------- FUNCTIONS"
   ]
  },
  {
   "cell_type": "code",
   "execution_count": 85,
   "id": "e74c1c9c-de24-4196-b95a-435fd667f2ba",
   "metadata": {},
   "outputs": [],
   "source": [
    "def say_hi():\n",
    "    print(\"Hello users\")"
   ]
  },
  {
   "cell_type": "code",
   "execution_count": 87,
   "id": "bf813f47-2753-409b-b7be-ee79c97e3305",
   "metadata": {},
   "outputs": [
    {
     "name": "stdout",
     "output_type": "stream",
     "text": [
      "top\n",
      "Hello users\n",
      "bottom\n"
     ]
    }
   ],
   "source": [
    "print(\"top\")\n",
    "say_hi()\n",
    "print(\"bottom\")"
   ]
  },
  {
   "cell_type": "code",
   "execution_count": 90,
   "id": "3dc7f38b-ed9b-4073-82f2-dc60e497142f",
   "metadata": {},
   "outputs": [
    {
     "name": "stdout",
     "output_type": "stream",
     "text": [
      "hello ayush\n",
      "hello chandan\n"
     ]
    }
   ],
   "source": [
    "def say_hii(name):\n",
    "    print(\"hello \" +name)\n",
    "\n",
    "say_hii(\"ayush\")\n",
    "say_hii(\"chandan\")"
   ]
  },
  {
   "cell_type": "code",
   "execution_count": 93,
   "id": "e09d2a52-631d-4ef9-bb4f-45383f7186bb",
   "metadata": {},
   "outputs": [
    {
     "name": "stdin",
     "output_type": "stream",
     "text": [
      "your age is 22\n"
     ]
    },
    {
     "name": "stdout",
     "output_type": "stream",
     "text": [
      "hello ayush your age is 22\n"
     ]
    },
    {
     "name": "stdin",
     "output_type": "stream",
     "text": [
      "your age is 22\n"
     ]
    },
    {
     "name": "stdout",
     "output_type": "stream",
     "text": [
      "hello chandan your age is 22\n"
     ]
    }
   ],
   "source": [
    "def say_hii(name,age):\n",
    "    print(\"hello \" + name + \" your age is \" + age)\n",
    "\n",
    "say_hii(\"ayush\",input(\"your age is\"))\n",
    "say_hii(\"chandan\",input(\"your age is\"))"
   ]
  },
  {
   "cell_type": "code",
   "execution_count": 99,
   "id": "6893b90d-2d38-49d5-95a6-44b0a63b220d",
   "metadata": {},
   "outputs": [
    {
     "name": "stdin",
     "output_type": "stream",
     "text": [
      "enter your number 5\n"
     ]
    },
    {
     "name": "stdout",
     "output_type": "stream",
     "text": [
      "125\n"
     ]
    }
   ],
   "source": [
    "def cube(num):\n",
    "   return num*num*num\n",
    "\n",
    "result =cube(int (input(\"enter your number\")))\n",
    "print(result)"
   ]
  },
  {
   "cell_type": "code",
   "execution_count": null,
   "id": "87878be2-21ec-4b13-8a45-14a6c2c65ec7",
   "metadata": {},
   "outputs": [],
   "source": []
  }
 ],
 "metadata": {
  "kernelspec": {
   "display_name": "Python 3 (ipykernel)",
   "language": "python",
   "name": "python3"
  },
  "language_info": {
   "codemirror_mode": {
    "name": "ipython",
    "version": 3
   },
   "file_extension": ".py",
   "mimetype": "text/x-python",
   "name": "python",
   "nbconvert_exporter": "python",
   "pygments_lexer": "ipython3",
   "version": "3.12.7"
  }
 },
 "nbformat": 4,
 "nbformat_minor": 5
}
