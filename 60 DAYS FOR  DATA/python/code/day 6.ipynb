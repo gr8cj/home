{
 "cells": [
  {
   "cell_type": "code",
   "execution_count": 1,
   "id": "c9efe0b9-cf99-486c-a2a8-fa4ba38fa5f0",
   "metadata": {},
   "outputs": [
    {
     "data": {
      "text/plain": [
       "int"
      ]
     },
     "execution_count": 1,
     "metadata": {},
     "output_type": "execute_result"
    }
   ],
   "source": [
    "int    1,2,3,"
   ]
  },
  {
   "cell_type": "code",
   "execution_count": 2,
   "id": "a698efdd-53bd-4241-b820-6c71f4e35242",
   "metadata": {},
   "outputs": [
    {
     "data": {
      "text/plain": [
       "float"
      ]
     },
     "execution_count": 2,
     "metadata": {},
     "output_type": "execute_result"
    }
   ],
   "source": [
    "float 1.2 2.3"
   ]
  },
  {
   "cell_type": "code",
   "execution_count": 5,
   "id": "ba062ebf-7d3f-4d25-9c0e-a2c20548bd2d",
   "metadata": {},
   "outputs": [],
   "source": [
    "# boolean  True False\n"
   ]
  },
  {
   "cell_type": "code",
   "execution_count": 6,
   "id": "864a43c5-e21a-4701-aa02-d77c3d702b73",
   "metadata": {},
   "outputs": [],
   "source": [
    "# string \"chandan jh\"\n"
   ]
  },
  {
   "cell_type": "markdown",
   "id": "0f0d957a-1e06-4fa1-8394-fa0c8ac12537",
   "metadata": {},
   "source": [
    "# another data types\n"
   ]
  },
  {
   "cell_type": "code",
   "execution_count": 7,
   "id": "26bf4f79-9d1e-4d62-bd6a-5f408a65a032",
   "metadata": {},
   "outputs": [
    {
     "data": {
      "text/plain": [
       "list"
      ]
     },
     "execution_count": 7,
     "metadata": {},
     "output_type": "execute_result"
    }
   ],
   "source": [
    "list"
   ]
  },
  {
   "cell_type": "code",
   "execution_count": 8,
   "id": "13aa05c1-f9f4-41a2-9f53-b5d1dcc436f5",
   "metadata": {},
   "outputs": [],
   "source": [
    "countries=[\"india\",\"usa\",\"nepal\",\"canada\",True,1,1.1]"
   ]
  },
  {
   "cell_type": "code",
   "execution_count": 9,
   "id": "d853a524-f8b1-45a7-b888-57557f874b72",
   "metadata": {},
   "outputs": [
    {
     "data": {
      "text/plain": [
       "'usa'"
      ]
     },
     "execution_count": 9,
     "metadata": {},
     "output_type": "execute_result"
    }
   ],
   "source": [
    "countries[1]"
   ]
  },
  {
   "cell_type": "code",
   "execution_count": 10,
   "id": "31ef04bf-4e1a-4c88-a574-05324b9a4d9d",
   "metadata": {},
   "outputs": [
    {
     "data": {
      "text/plain": [
       "'india'"
      ]
     },
     "execution_count": 10,
     "metadata": {},
     "output_type": "execute_result"
    }
   ],
   "source": [
    "countries[0]"
   ]
  },
  {
   "cell_type": "code",
   "execution_count": 11,
   "id": "89645a26-f7ee-455c-93c4-5eda05076bcc",
   "metadata": {},
   "outputs": [
    {
     "data": {
      "text/plain": [
       "1.1"
      ]
     },
     "execution_count": 11,
     "metadata": {},
     "output_type": "execute_result"
    }
   ],
   "source": [
    "countries[-1]"
   ]
  },
  {
   "cell_type": "code",
   "execution_count": 12,
   "id": "82ad9e8d-512f-4719-9de1-642654da1097",
   "metadata": {},
   "outputs": [
    {
     "data": {
      "text/plain": [
       "True"
      ]
     },
     "execution_count": 12,
     "metadata": {},
     "output_type": "execute_result"
    }
   ],
   "source": [
    "countries[-3]"
   ]
  },
  {
   "cell_type": "markdown",
   "id": "73961eac-1242-4477-b787-97abb361050b",
   "metadata": {},
   "source": [
    "### SLICING   ---------       list_name[start:stop]"
   ]
  },
  {
   "cell_type": "code",
   "execution_count": 13,
   "id": "3e714115-45e7-471f-9c8d-2b6eea73de2a",
   "metadata": {},
   "outputs": [
    {
     "data": {
      "text/plain": [
       "['india', 'usa', 'nepal']"
      ]
     },
     "execution_count": 13,
     "metadata": {},
     "output_type": "execute_result"
    }
   ],
   "source": [
    "countries[0:3]"
   ]
  },
  {
   "cell_type": "code",
   "execution_count": 14,
   "id": "53bd6672-fbcc-4a14-946f-3ff7e5fb390f",
   "metadata": {},
   "outputs": [
    {
     "data": {
      "text/plain": [
       "['india', 'usa', 'nepal', 'canada', True, 1, 1.1]"
      ]
     },
     "execution_count": 14,
     "metadata": {},
     "output_type": "execute_result"
    }
   ],
   "source": [
    "countries[:]"
   ]
  },
  {
   "cell_type": "code",
   "execution_count": 15,
   "id": "7f11e62e-5489-4ff2-b32e-0456ee695fa1",
   "metadata": {},
   "outputs": [
    {
     "data": {
      "text/plain": [
       "['india', 'usa', 'nepal']"
      ]
     },
     "execution_count": 15,
     "metadata": {},
     "output_type": "execute_result"
    }
   ],
   "source": [
    "countries[:3]"
   ]
  },
  {
   "cell_type": "code",
   "execution_count": 16,
   "id": "888b65fa-6324-4630-a450-1da7c6c94dfa",
   "metadata": {},
   "outputs": [
    {
     "data": {
      "text/plain": [
       "['canada', True, 1, 1.1]"
      ]
     },
     "execution_count": 16,
     "metadata": {},
     "output_type": "execute_result"
    }
   ],
   "source": [
    "countries[3:]"
   ]
  },
  {
   "cell_type": "markdown",
   "id": "9164dc8a-e4f6-4356-bb75-3ebb4f2c6b3d",
   "metadata": {},
   "source": [
    "### ADD ELEMENT TO LIST"
   ]
  },
  {
   "cell_type": "markdown",
   "id": "b1880d5b-1302-44e9-9453-04736d389400",
   "metadata": {},
   "source": [
    "#### APPEND -----list_name.append(\"addd\")"
   ]
  },
  {
   "cell_type": "code",
   "execution_count": 17,
   "id": "3ad63fb2-20c6-48f5-a1a0-213d1508ae6b",
   "metadata": {},
   "outputs": [],
   "source": [
    "countries.append(\"russia\")"
   ]
  },
  {
   "cell_type": "code",
   "execution_count": 18,
   "id": "f0735a97-10c9-4d63-b07c-201a1a9b833b",
   "metadata": {},
   "outputs": [
    {
     "data": {
      "text/plain": [
       "['india', 'usa', 'nepal', 'canada', True, 1, 1.1, 'russia']"
      ]
     },
     "execution_count": 18,
     "metadata": {},
     "output_type": "execute_result"
    }
   ],
   "source": [
    "countries"
   ]
  },
  {
   "cell_type": "markdown",
   "id": "609946b0-5185-40ce-ba8b-87345ffaff9a",
   "metadata": {},
   "source": [
    "### INSERT  "
   ]
  },
  {
   "cell_type": "code",
   "execution_count": 20,
   "id": "337866e3-4ace-4a95-8efd-1df535137b98",
   "metadata": {},
   "outputs": [],
   "source": [
    "countries.insert(0,\"Spain\")"
   ]
  },
  {
   "cell_type": "code",
   "execution_count": 21,
   "id": "dcf0b97f-d8f3-454e-a373-24c56ee8bf08",
   "metadata": {},
   "outputs": [
    {
     "data": {
      "text/plain": [
       "['Spain', 'india', 'usa', 'nepal', 'canada', True, 1, 1.1, 'russia']"
      ]
     },
     "execution_count": 21,
     "metadata": {},
     "output_type": "execute_result"
    }
   ],
   "source": [
    "countries"
   ]
  },
  {
   "cell_type": "markdown",
   "id": "49221125-8969-4492-87c0-7c95008d27a5",
   "metadata": {},
   "source": [
    "###\n",
    "\n",
    "JOIN"
   ]
  },
  {
   "cell_type": "code",
   "execution_count": 23,
   "id": "e793c616-de7b-494b-8da6-cd8b20d1c180",
   "metadata": {},
   "outputs": [],
   "source": [
    "countries_1=[\"UK\",\"germsny\",\"Austria\"]"
   ]
  },
  {
   "cell_type": "code",
   "execution_count": 24,
   "id": "79463e24-e546-44d6-9683-cb7719932575",
   "metadata": {},
   "outputs": [
    {
     "data": {
      "text/plain": [
       "['Spain',\n",
       " 'india',\n",
       " 'usa',\n",
       " 'nepal',\n",
       " 'canada',\n",
       " True,\n",
       " 1,\n",
       " 1.1,\n",
       " 'russia',\n",
       " 'UK',\n",
       " 'germsny',\n",
       " 'Austria']"
      ]
     },
     "execution_count": 24,
     "metadata": {},
     "output_type": "execute_result"
    }
   ],
   "source": [
    "countries+countries_1\n",
    "\n",
    "\n"
   ]
  },
  {
   "cell_type": "code",
   "execution_count": 25,
   "id": "15a9235e-22bf-4907-a9c0-e5aad752680c",
   "metadata": {},
   "outputs": [],
   "source": [
    "###### NESTED LIST"
   ]
  },
  {
   "cell_type": "code",
   "execution_count": 27,
   "id": "0527cf49-d5a4-43b2-8c75-1a8f3a4198f3",
   "metadata": {},
   "outputs": [],
   "source": [
    "nested_list=[countries,countries_1]"
   ]
  },
  {
   "cell_type": "code",
   "execution_count": 28,
   "id": "ed7ec0b2-7c50-4264-8fa7-9504c94c2ef4",
   "metadata": {},
   "outputs": [
    {
     "data": {
      "text/plain": [
       "[['Spain', 'india', 'usa', 'nepal', 'canada', True, 1, 1.1, 'russia'],\n",
       " ['UK', 'germsny', 'Austria']]"
      ]
     },
     "execution_count": 28,
     "metadata": {},
     "output_type": "execute_result"
    }
   ],
   "source": [
    "nested_list"
   ]
  },
  {
   "cell_type": "markdown",
   "id": "9022887b-eb6a-4321-b966-1e220fa8c5ee",
   "metadata": {},
   "source": [
    "### REMOVE"
   ]
  },
  {
   "cell_type": "code",
   "execution_count": 32,
   "id": "614d2481-0310-4ca1-a5d5-1f73bad48ecb",
   "metadata": {},
   "outputs": [],
   "source": [
    "countries.remove(\"usa\")"
   ]
  },
  {
   "cell_type": "raw",
   "id": "d28c40fa-3624-41d8-9637-63462f73bf44",
   "metadata": {},
   "source": [
    "countries"
   ]
  },
  {
   "cell_type": "code",
   "execution_count": 33,
   "id": "eedae4b3-6d6c-4008-9369-40d5984b6376",
   "metadata": {},
   "outputs": [
    {
     "data": {
      "text/plain": [
       "['Spain', 'india', 'nepal', 'canada', True, 1, 1.1, 'russia']"
      ]
     },
     "execution_count": 33,
     "metadata": {},
     "output_type": "execute_result"
    }
   ],
   "source": [
    "countries"
   ]
  },
  {
   "cell_type": "code",
   "execution_count": 34,
   "id": "8efdcaec-2740-4bd7-8d41-cc511085771b",
   "metadata": {},
   "outputs": [
    {
     "data": {
      "text/plain": [
       "'russia'"
      ]
     },
     "execution_count": 34,
     "metadata": {},
     "output_type": "execute_result"
    }
   ],
   "source": [
    "countries.pop(-1)"
   ]
  },
  {
   "cell_type": "code",
   "execution_count": 36,
   "id": "eceba3ce-1455-4f61-aa11-711c70462239",
   "metadata": {},
   "outputs": [],
   "source": [
    "del countries[0]"
   ]
  },
  {
   "cell_type": "code",
   "execution_count": 37,
   "id": "ea024903-ff2d-4585-a926-ce5bc802c40a",
   "metadata": {},
   "outputs": [
    {
     "data": {
      "text/plain": [
       "['india', 'nepal', 'canada', True, 1, 1.1]"
      ]
     },
     "execution_count": 37,
     "metadata": {},
     "output_type": "execute_result"
    }
   ],
   "source": [
    "countries"
   ]
  },
  {
   "cell_type": "markdown",
   "id": "becd5bda-866f-40bd-a45a-8316667be5a7",
   "metadata": {},
   "source": [
    "### SROT A LIST"
   ]
  },
  {
   "cell_type": "code",
   "execution_count": 39,
   "id": "3b003724-856c-4240-9dcc-a8f2db6d8ad8",
   "metadata": {},
   "outputs": [],
   "source": [
    "num=[4,3,20,7,1,2]"
   ]
  },
  {
   "cell_type": "code",
   "execution_count": 40,
   "id": "62a2fcf0-2044-4a83-af18-1a10727ff51d",
   "metadata": {},
   "outputs": [],
   "source": [
    "num.sort()"
   ]
  },
  {
   "cell_type": "code",
   "execution_count": 41,
   "id": "169a5c34-bdbc-4548-bcd6-40ea3b60b050",
   "metadata": {},
   "outputs": [
    {
     "data": {
      "text/plain": [
       "[1, 2, 3, 4, 7, 20]"
      ]
     },
     "execution_count": 41,
     "metadata": {},
     "output_type": "execute_result"
    }
   ],
   "source": [
    "num"
   ]
  },
  {
   "cell_type": "code",
   "execution_count": 42,
   "id": "7be849b2-a3da-4e90-8945-684e4bf2ba53",
   "metadata": {},
   "outputs": [],
   "source": [
    "num=[4,3,20,7,1,2]"
   ]
  },
  {
   "cell_type": "code",
   "execution_count": 44,
   "id": "4507dab2-0562-4e3f-8782-1396ec03bdee",
   "metadata": {},
   "outputs": [],
   "source": [
    "num.sort(reverse=True)"
   ]
  },
  {
   "cell_type": "code",
   "execution_count": 45,
   "id": "74f86886-9c88-4080-99a7-06d97958ce51",
   "metadata": {},
   "outputs": [
    {
     "data": {
      "text/plain": [
       "[20, 7, 4, 3, 2, 1]"
      ]
     },
     "execution_count": 45,
     "metadata": {},
     "output_type": "execute_result"
    }
   ],
   "source": [
    "num"
   ]
  },
  {
   "cell_type": "markdown",
   "id": "b37e95cd-73c1-4111-a326-75fc48730ae5",
   "metadata": {},
   "source": [
    "### UPDATE AN ELEMENT"
   ]
  },
  {
   "cell_type": "code",
   "execution_count": 46,
   "id": "7e76df32-b1e5-4aba-98f2-1155eb05ad7a",
   "metadata": {},
   "outputs": [],
   "source": [
    "num[0] = 1000"
   ]
  },
  {
   "cell_type": "code",
   "execution_count": 47,
   "id": "ef7c8518-5d80-4356-8d1c-17478ffa03c1",
   "metadata": {},
   "outputs": [
    {
     "data": {
      "text/plain": [
       "[1000, 7, 4, 3, 2, 1]"
      ]
     },
     "execution_count": 47,
     "metadata": {},
     "output_type": "execute_result"
    }
   ],
   "source": [
    "num"
   ]
  },
  {
   "cell_type": "markdown",
   "id": "b9fb355e-71d9-4b39-a388-7a15efbf69c6",
   "metadata": {},
   "source": [
    "### COPY A LIST"
   ]
  },
  {
   "cell_type": "code",
   "execution_count": 48,
   "id": "707a1d9c-e74d-4127-82b0-b709945c3ab1",
   "metadata": {},
   "outputs": [
    {
     "data": {
      "text/plain": [
       "['india', 'nepal', 'canada', True, 1, 1.1]"
      ]
     },
     "execution_count": 48,
     "metadata": {},
     "output_type": "execute_result"
    }
   ],
   "source": [
    "countries[:]"
   ]
  },
  {
   "cell_type": "code",
   "execution_count": 49,
   "id": "d59c8429-3278-48b5-9402-eb9e77c74e92",
   "metadata": {},
   "outputs": [],
   "source": [
    "new_list=countries[:]"
   ]
  },
  {
   "cell_type": "code",
   "execution_count": 50,
   "id": "333467a7-a7d9-498d-840a-2d8e780c7847",
   "metadata": {},
   "outputs": [
    {
     "data": {
      "text/plain": [
       "['india', 'nepal', 'canada', True, 1, 1.1]"
      ]
     },
     "execution_count": 50,
     "metadata": {},
     "output_type": "execute_result"
    }
   ],
   "source": [
    "new_list"
   ]
  },
  {
   "cell_type": "code",
   "execution_count": 52,
   "id": "7afcd417-6289-4abc-825c-574a01e96735",
   "metadata": {},
   "outputs": [],
   "source": [
    "new_list_2=countries.copy()"
   ]
  },
  {
   "cell_type": "code",
   "execution_count": 53,
   "id": "41996a78-7e68-410c-adf5-8ba05c5ff893",
   "metadata": {},
   "outputs": [
    {
     "data": {
      "text/plain": [
       "['india', 'nepal', 'canada', True, 1, 1.1]"
      ]
     },
     "execution_count": 53,
     "metadata": {},
     "output_type": "execute_result"
    }
   ],
   "source": [
    "new_list_2"
   ]
  },
  {
   "cell_type": "code",
   "execution_count": null,
   "id": "61458f44-80b8-4953-a00b-500df22c597f",
   "metadata": {},
   "outputs": [],
   "source": []
  },
  {
   "cell_type": "code",
   "execution_count": null,
   "id": "9304e33d-1504-44da-bb84-b02b445f9df8",
   "metadata": {},
   "outputs": [],
   "source": []
  },
  {
   "cell_type": "code",
   "execution_count": null,
   "id": "2022815e-133d-4d7a-83aa-3821cae8eefe",
   "metadata": {},
   "outputs": [],
   "source": []
  },
  {
   "cell_type": "markdown",
   "id": "3f7561ad-f1bf-412e-9431-5c8bfb24e002",
   "metadata": {},
   "source": [
    "# DICTONARY"
   ]
  },
  {
   "cell_type": "code",
   "execution_count": null,
   "id": "a321141a-17d4-4eba-b06e-f7cc3e20215a",
   "metadata": {},
   "outputs": [],
   "source": []
  },
  {
   "cell_type": "code",
   "execution_count": 55,
   "id": "38cbdb11-2af5-40ce-acf5-935ca50dfeba",
   "metadata": {},
   "outputs": [],
   "source": [
    "my_data={\"name\":\"chandan\",\"age\":22,}"
   ]
  },
  {
   "cell_type": "code",
   "execution_count": 56,
   "id": "ca4bc24e-5f8e-4c8d-b7cb-779fa4236d1e",
   "metadata": {},
   "outputs": [
    {
     "data": {
      "text/plain": [
       "{'name': 'chandan', 'age': 22}"
      ]
     },
     "execution_count": 56,
     "metadata": {},
     "output_type": "execute_result"
    }
   ],
   "source": [
    "my_data"
   ]
  },
  {
   "cell_type": "code",
   "execution_count": 57,
   "id": "f96df7c2-75ce-45fe-928a-1dd8bae6cdbc",
   "metadata": {},
   "outputs": [
    {
     "data": {
      "text/plain": [
       "dict_keys(['name', 'age'])"
      ]
     },
     "execution_count": 57,
     "metadata": {},
     "output_type": "execute_result"
    }
   ],
   "source": [
    "my_data.keys()"
   ]
  },
  {
   "cell_type": "code",
   "execution_count": 58,
   "id": "952bd6c4-8d8d-41c0-8a96-86d6acb3c00c",
   "metadata": {},
   "outputs": [
    {
     "data": {
      "text/plain": [
       "dict_values(['chandan', 22])"
      ]
     },
     "execution_count": 58,
     "metadata": {},
     "output_type": "execute_result"
    }
   ],
   "source": [
    "my_data.values()"
   ]
  },
  {
   "cell_type": "code",
   "execution_count": 59,
   "id": "0da13944-e8ef-4769-91cc-3e15fa6726b6",
   "metadata": {},
   "outputs": [
    {
     "data": {
      "text/plain": [
       "dict_items([('name', 'chandan'), ('age', 22)])"
      ]
     },
     "execution_count": 59,
     "metadata": {},
     "output_type": "execute_result"
    }
   ],
   "source": [
    "my_data.items()"
   ]
  },
  {
   "cell_type": "code",
   "execution_count": 60,
   "id": "63d82fb1-5549-497f-9310-8a09f6b4e753",
   "metadata": {},
   "outputs": [],
   "source": [
    "my_data['height']=1.7"
   ]
  },
  {
   "cell_type": "code",
   "execution_count": 61,
   "id": "4799225d-5c6e-447f-83f0-4ad4e30f405e",
   "metadata": {},
   "outputs": [
    {
     "data": {
      "text/plain": [
       "{'name': 'chandan', 'age': 22, 'height': 1.7}"
      ]
     },
     "execution_count": 61,
     "metadata": {},
     "output_type": "execute_result"
    }
   ],
   "source": [
    "my_data"
   ]
  },
  {
   "cell_type": "markdown",
   "id": "945e0ac1-cc01-4367-ad97-06f43239c2aa",
   "metadata": {},
   "source": [
    "### update"
   ]
  },
  {
   "cell_type": "code",
   "execution_count": 70,
   "id": "964cbecc-be3b-447b-b7d3-1c77dc68fbf9",
   "metadata": {},
   "outputs": [],
   "source": [
    "my_data.update({\"height\":4.55})"
   ]
  },
  {
   "cell_type": "code",
   "execution_count": 71,
   "id": "c21b9e46-93ef-44e2-a392-badf18a7a502",
   "metadata": {},
   "outputs": [
    {
     "data": {
      "text/plain": [
       "{'name': 'chandan', 'age': 22, 'height': 4.55}"
      ]
     },
     "execution_count": 71,
     "metadata": {},
     "output_type": "execute_result"
    }
   ],
   "source": [
    "my_data"
   ]
  },
  {
   "cell_type": "markdown",
   "id": "2bf39b53-6be8-4e83-953b-813c35af0c66",
   "metadata": {},
   "source": [
    "### COPY A DICTONARY"
   ]
  },
  {
   "cell_type": "code",
   "execution_count": 73,
   "id": "6aae9a49-f119-4c16-ae4d-c0ca96355606",
   "metadata": {},
   "outputs": [],
   "source": [
    "new_dict=my_data.copy()"
   ]
  },
  {
   "cell_type": "code",
   "execution_count": 74,
   "id": "a8bab9a7-5e1e-439c-9815-f433aa0f5868",
   "metadata": {},
   "outputs": [
    {
     "data": {
      "text/plain": [
       "{'name': 'chandan', 'age': 22, 'height': 4.55}"
      ]
     },
     "execution_count": 74,
     "metadata": {},
     "output_type": "execute_result"
    }
   ],
   "source": [
    "new_dict"
   ]
  },
  {
   "cell_type": "code",
   "execution_count": 75,
   "id": "2e4f585f-fc7d-49c7-9e9a-9df4848a235c",
   "metadata": {},
   "outputs": [],
   "source": [
    "my_dict2=my_data"
   ]
  },
  {
   "cell_type": "code",
   "execution_count": 76,
   "id": "4cea67da-e31d-4e84-a3ae-93d5140fd742",
   "metadata": {},
   "outputs": [
    {
     "data": {
      "text/plain": [
       "{'name': 'chandan', 'age': 22, 'height': 4.55}"
      ]
     },
     "execution_count": 76,
     "metadata": {},
     "output_type": "execute_result"
    }
   ],
   "source": [
    "my_dict2"
   ]
  },
  {
   "cell_type": "markdown",
   "id": "1b97bf3e-ba14-48d8-9ba2-cb842b2761a5",
   "metadata": {},
   "source": [
    "### REMOVE ELEMENT"
   ]
  },
  {
   "cell_type": "code",
   "execution_count": 78,
   "id": "1ec013ea-1a89-4b05-a59e-6d38d080432d",
   "metadata": {},
   "outputs": [
    {
     "data": {
      "text/plain": [
       "'chandan'"
      ]
     },
     "execution_count": 78,
     "metadata": {},
     "output_type": "execute_result"
    }
   ],
   "source": [
    "my_data.pop(\"name\")"
   ]
  },
  {
   "cell_type": "code",
   "execution_count": 81,
   "id": "88e3d50e-79c7-4cf7-8bb3-ad0466bf9991",
   "metadata": {},
   "outputs": [
    {
     "data": {
      "text/plain": [
       "{'age': 22, 'height': 4.55}"
      ]
     },
     "execution_count": 81,
     "metadata": {},
     "output_type": "execute_result"
    }
   ],
   "source": [
    "my_data"
   ]
  },
  {
   "cell_type": "code",
   "execution_count": 82,
   "id": "5f7be19e-ea96-4b60-873f-4c1a5d4502dc",
   "metadata": {},
   "outputs": [],
   "source": [
    "del my_data['age']"
   ]
  },
  {
   "cell_type": "code",
   "execution_count": 83,
   "id": "3a4c418d-2328-4645-9269-c022d7cc1d23",
   "metadata": {},
   "outputs": [
    {
     "data": {
      "text/plain": [
       "{'height': 4.55}"
      ]
     },
     "execution_count": 83,
     "metadata": {},
     "output_type": "execute_result"
    }
   ],
   "source": [
    "my_data"
   ]
  },
  {
   "cell_type": "code",
   "execution_count": 84,
   "id": "1a8e84ab-cb62-41ba-b9f9-0888351b614d",
   "metadata": {},
   "outputs": [],
   "source": [
    "my_data.clear()"
   ]
  },
  {
   "cell_type": "code",
   "execution_count": 85,
   "id": "ae4d5c94-8d2b-4b74-9113-ce6f34a36a6c",
   "metadata": {},
   "outputs": [
    {
     "data": {
      "text/plain": [
       "{}"
      ]
     },
     "execution_count": 85,
     "metadata": {},
     "output_type": "execute_result"
    }
   ],
   "source": [
    "my_data"
   ]
  },
  {
   "cell_type": "code",
   "execution_count": null,
   "id": "449e624c-3a6b-47dd-8363-4addbefc5e89",
   "metadata": {},
   "outputs": [],
   "source": []
  },
  {
   "cell_type": "code",
   "execution_count": null,
   "id": "22a2d3fc-ab1b-4bd3-84d6-19d550a33fb7",
   "metadata": {},
   "outputs": [],
   "source": []
  },
  {
   "cell_type": "code",
   "execution_count": null,
   "id": "0f71308a-b9ad-4144-a8fe-f0298827fba1",
   "metadata": {},
   "outputs": [],
   "source": []
  },
  {
   "cell_type": "markdown",
   "id": "f7392bcf-6888-4a50-9d0b-9e001d3a168d",
   "metadata": {},
   "source": [
    "# MODULE"
   ]
  },
  {
   "cell_type": "markdown",
   "id": "10b90f4e-d6e9-43c8-8fa4-6bce56b5aeb4",
   "metadata": {},
   "source": [
    "##### OS MODULE"
   ]
  },
  {
   "cell_type": "code",
   "execution_count": 86,
   "id": "b5c92cc0-1ae1-4aeb-a2ef-cd543cea16ab",
   "metadata": {},
   "outputs": [],
   "source": [
    "import os"
   ]
  },
  {
   "cell_type": "code",
   "execution_count": 87,
   "id": "450e68d9-a1bf-44a7-b6f9-6f589f445c3a",
   "metadata": {},
   "outputs": [
    {
     "data": {
      "text/plain": [
       "'C:\\\\Users\\\\Lenovo\\\\60 days dads'"
      ]
     },
     "execution_count": 87,
     "metadata": {},
     "output_type": "execute_result"
    }
   ],
   "source": [
    "os.getcwd()"
   ]
  },
  {
   "cell_type": "code",
   "execution_count": 88,
   "id": "494cade8-9565-42d1-8034-1daea663db18",
   "metadata": {},
   "outputs": [
    {
     "data": {
      "text/plain": [
       "['.ipynb_checkpoints',\n",
       " 'day 1.ipynb',\n",
       " 'day 2.ipynb',\n",
       " 'day 3 project.ipynb',\n",
       " 'day 3.ipynb',\n",
       " 'day 4 project.ipynb',\n",
       " 'day 4.ipynb',\n",
       " 'day 5.ipynb',\n",
       " 'day 6.ipynb']"
      ]
     },
     "execution_count": 88,
     "metadata": {},
     "output_type": "execute_result"
    }
   ],
   "source": [
    "os.listdir()"
   ]
  },
  {
   "cell_type": "code",
   "execution_count": 90,
   "id": "220b0436-d223-4abc-91fb-9cd95cc8d352",
   "metadata": {},
   "outputs": [],
   "source": [
    "os.makedirs(\"New Folder\")"
   ]
  },
  {
   "cell_type": "code",
   "execution_count": 91,
   "id": "39d9cb81-f18c-477b-b82e-b9e08b34ce88",
   "metadata": {},
   "outputs": [
    {
     "data": {
      "text/plain": [
       "['.ipynb_checkpoints',\n",
       " 'day 1.ipynb',\n",
       " 'day 2.ipynb',\n",
       " 'day 3 project.ipynb',\n",
       " 'day 3.ipynb',\n",
       " 'day 4 project.ipynb',\n",
       " 'day 4.ipynb',\n",
       " 'day 5.ipynb',\n",
       " 'day 6.ipynb',\n",
       " 'New Folder']"
      ]
     },
     "execution_count": 91,
     "metadata": {},
     "output_type": "execute_result"
    }
   ],
   "source": [
    "os.listdir()"
   ]
  },
  {
   "cell_type": "code",
   "execution_count": null,
   "id": "c7bd8eb3-731f-4d04-99f8-f4f2f86f2fd5",
   "metadata": {},
   "outputs": [],
   "source": []
  },
  {
   "cell_type": "code",
   "execution_count": null,
   "id": "1a4934ea-30c4-4bbb-9c5f-6b0f240d31c5",
   "metadata": {},
   "outputs": [],
   "source": []
  },
  {
   "cell_type": "code",
   "execution_count": null,
   "id": "81870e2f-f987-459a-a0ff-0561ba49bfee",
   "metadata": {},
   "outputs": [],
   "source": []
  },
  {
   "cell_type": "code",
   "execution_count": null,
   "id": "9c2bd7e6-e5ab-4554-86f1-c0b7c3a85c96",
   "metadata": {},
   "outputs": [],
   "source": []
  },
  {
   "cell_type": "markdown",
   "id": "3d71e9ef-46fa-493e-a1d3-6e3bf210e44b",
   "metadata": {},
   "source": [
    "# PANDAS"
   ]
  },
  {
   "cell_type": "code",
   "execution_count": null,
   "id": "7f9d1c06-af62-413f-960c-a993d434b224",
   "metadata": {},
   "outputs": [],
   "source": []
  }
 ],
 "metadata": {
  "kernelspec": {
   "display_name": "Python 3 (ipykernel)",
   "language": "python",
   "name": "python3"
  },
  "language_info": {
   "codemirror_mode": {
    "name": "ipython",
    "version": 3
   },
   "file_extension": ".py",
   "mimetype": "text/x-python",
   "name": "python",
   "nbconvert_exporter": "python",
   "pygments_lexer": "ipython3",
   "version": "3.12.7"
  }
 },
 "nbformat": 4,
 "nbformat_minor": 5
}
