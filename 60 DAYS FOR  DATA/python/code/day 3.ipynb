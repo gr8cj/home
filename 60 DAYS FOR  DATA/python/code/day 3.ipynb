{
 "cells": [
  {
   "cell_type": "code",
   "execution_count": 1,
   "id": "d88e3c49-88b1-4f75-b676-b8a9b9cea36d",
   "metadata": {},
   "outputs": [],
   "source": [
    "# if statement \n",
    "#dictonary\n",
    "#while loop"
   ]
  },
  {
   "cell_type": "code",
   "execution_count": 22,
   "id": "3472658c-27a7-4e90-962e-0fa4d0fd6725",
   "metadata": {},
   "outputs": [],
   "source": [
    "is_mail=True\n",
    "is_tall=True"
   ]
  },
  {
   "cell_type": "code",
   "execution_count": 20,
   "id": "165f8801-eed1-4ea4-9669-b0658019a9d3",
   "metadata": {},
   "outputs": [
    {
     "name": "stdout",
     "output_type": "stream",
     "text": [
      "you are not a male\n"
     ]
    }
   ],
   "source": [
    "if is_mail:\n",
    "    print(\"you are male\")\n",
    "else:\n",
    "    print(\"you are not a male\")"
   ]
  },
  {
   "cell_type": "code",
   "execution_count": 21,
   "id": "a848aa32-dcc1-478d-bbea-904e09892c2d",
   "metadata": {},
   "outputs": [
    {
     "name": "stdout",
     "output_type": "stream",
     "text": [
      "your are not mail or tall\n"
     ]
    }
   ],
   "source": [
    "if is_mail or is_tall:                      #0 or 1 will return 1\n",
    "    print(\"yes it is tall or male or both\")\n",
    "\n",
    "else:\n",
    "    print(\"your are not mail or tall\")"
   ]
  },
  {
   "cell_type": "code",
   "execution_count": 23,
   "id": "23a4bddd-730c-4d65-ae0a-a386a1831361",
   "metadata": {},
   "outputs": [
    {
     "name": "stdout",
     "output_type": "stream",
     "text": [
      "yes it is tall or male or both\n"
     ]
    }
   ],
   "source": [
    "if is_mail and is_tall:          #0 and 1 will return 0\n",
    "    print(\"yes it is tall or male or both\")\n",
    "\n",
    "else:\n",
    "    print(\"your are not mail or tall\")"
   ]
  },
  {
   "cell_type": "code",
   "execution_count": 24,
   "id": "9129baec-1f74-47cd-9bdf-579f8accdf02",
   "metadata": {},
   "outputs": [
    {
     "name": "stdout",
     "output_type": "stream",
     "text": [
      "you are tall mail\n"
     ]
    }
   ],
   "source": [
    "if is_mail and is_tall:\n",
    "    print(\"you are tall mail\")\n",
    "elif is_mail and not(is_tall):\n",
    "    print(\"you are a short mial\")\n",
    "elif not(is_mail) and is_tall:\n",
    "    print(\"you are tall but not mail\")\n",
    "\n",
    "else:\n",
    "    print(\"your are not a mail and tall\")"
   ]
  },
  {
   "cell_type": "code",
   "execution_count": 33,
   "id": "b8b42e9e-b6d5-4bca-96ba-82e18f491154",
   "metadata": {},
   "outputs": [
    {
     "data": {
      "text/plain": [
       "8"
      ]
     },
     "execution_count": 33,
     "metadata": {},
     "output_type": "execute_result"
    }
   ],
   "source": [
    "         \n",
    "def max_num(num1,num2,num3):\n",
    "    if num1>=num2 and num1>=num3:\n",
    "        return num1\n",
    "    elif num2>=num1 and num2>=num3:\n",
    "        return num2 \n",
    "    else:\n",
    "        return num3\n",
    "\n",
    "max_num(8,5,6)"
   ]
  },
  {
   "cell_type": "code",
   "execution_count": null,
   "id": "3ccf1b18-48f0-495a-9d8e-e73e30c3b16d",
   "metadata": {},
   "outputs": [],
   "source": [
    "monthConversion={\n",
    "    \"Jan\":\"January\",\n",
    "    \"feb\":\"February\",\n",
    "    \"Mar\":\"March\",\n",
    "    \"Apr\":'April',\n",
    "    'May':'May',\n",
    "    'Jun':'June',\n",
    "    'Jul':'July',\n",
    "    'Aug':'August',\n",
    "    'sep':'Sepetember',\n",
    "    'Oct':'October',\n",
    "    'Nov': 'November',\n",
    "    'Dec':'December'\n",
    "    \n",
    "    \n",
    "\n",
    "}"
   ]
  },
  {
   "cell_type": "code",
   "execution_count": 41,
   "id": "a4aca473-05ba-42d3-9611-e624079685c9",
   "metadata": {},
   "outputs": [
    {
     "name": "stdout",
     "output_type": "stream",
     "text": [
      "1\n",
      "2\n",
      "3\n",
      "4\n",
      "5\n",
      "6\n",
      "7\n",
      "8\n",
      "9\n",
      "10\n",
      "done with loop\n"
     ]
    }
   ],
   "source": [
    " i=1\n",
    "while i<=10:\n",
    "    print(i)\n",
    "    i+=1\n",
    "\n",
    "print(\"done with loop\")"
   ]
  },
  {
   "cell_type": "markdown",
   "id": "b2c3fce9-6cbb-41d2-bc8b-856d7af3ff9f",
   "metadata": {},
   "source": [
    "### GUSS GAME "
   ]
  },
  {
   "cell_type": "code",
   "execution_count": 46,
   "id": "396bc300-f126-4411-bc99-ca3dd2d890a0",
   "metadata": {},
   "outputs": [
    {
     "name": "stdin",
     "output_type": "stream",
     "text": [
      "enter your word asd\n",
      "enter your word a\n",
      "enter your word s\n",
      "enter your word \n",
      "enter your word s\n",
      "enter your word a\n",
      "enter your word aa\n",
      "enter your word 5\\\n",
      "enter your word \n",
      "enter your word 65\n",
      "enter your word breaj\n",
      "enter your word giraffe\n"
     ]
    },
    {
     "name": "stdout",
     "output_type": "stream",
     "text": [
      "you go tit\n"
     ]
    }
   ],
   "source": [
    "secreat_word=\"giraffe\"\n",
    "guess=\"\"\n",
    "guess_count=1\n",
    "guess_limit=5\n",
    "Out_of_guesses=False\n",
    "while guess !=secreat_word :\n",
    "    guess=input(\"enter your word\")\n",
    "    guess_count+=1\n",
    "    \n",
    "\n",
    "print(\"you go tit\")"
   ]
  },
  {
   "cell_type": "code",
   "execution_count": 49,
   "id": "94339f28-c52a-4820-a4a8-0870afcda445",
   "metadata": {},
   "outputs": [
    {
     "name": "stdin",
     "output_type": "stream",
     "text": [
      "enter your word g\n",
      "enter your word g\n",
      "enter your word g\n",
      "enter your word g\n"
     ]
    },
    {
     "ename": "KeyboardInterrupt",
     "evalue": "",
     "output_type": "error",
     "traceback": [
      "\u001b[1;31m---------------------------------------------------------------------------\u001b[0m",
      "\u001b[1;31mKeyboardInterrupt\u001b[0m                         Traceback (most recent call last)",
      "Cell \u001b[1;32mIn[49], line 6\u001b[0m\n\u001b[0;32m      4\u001b[0m guess_limit\u001b[38;5;241m=\u001b[39m\u001b[38;5;241m5\u001b[39m\n\u001b[0;32m      5\u001b[0m Out_of_guesses\u001b[38;5;241m=\u001b[39m\u001b[38;5;28;01mFalse\u001b[39;00m\n\u001b[1;32m----> 6\u001b[0m \u001b[38;5;28;01mwhile\u001b[39;00m guess \u001b[38;5;241m!=\u001b[39msecreat_word \u001b[38;5;129;01mand\u001b[39;00m \u001b[38;5;129;01mnot\u001b[39;00m(Out_of_guesses):\n\u001b[0;32m      7\u001b[0m     \u001b[38;5;28;01mif\u001b[39;00m guess_count \u001b[38;5;241m<\u001b[39m guess_limit:\n\u001b[0;32m      8\u001b[0m         guess\u001b[38;5;241m=\u001b[39m\u001b[38;5;28minput\u001b[39m(\u001b[38;5;124m\"\u001b[39m\u001b[38;5;124menter your word\u001b[39m\u001b[38;5;124m\"\u001b[39m)\n",
      "\u001b[1;31mKeyboardInterrupt\u001b[0m: "
     ]
    }
   ],
   "source": [
    "secreat_word=\"giraffe\"\n",
    "guess=\"\"\n",
    "guess_count=1\n",
    "guess_limit=5\n",
    "Out_of_guesses=False\n",
    "while guess !=secreat_word and not(Out_of_guesses):\n",
    "    if guess_count < guess_limit:\n",
    "        guess=input(\"enter your word\")\n",
    "        guess_count+=1\n",
    "    else:\n",
    "        out_of_guesses=True\n",
    "if out_of_guesses:\n",
    "    print(\"you loose the game\")\n",
    "else:\n",
    "    print(\"yaay you win\")\n"
   ]
  },
  {
   "cell_type": "code",
   "execution_count": null,
   "id": "394cf710-3814-41d3-8e1c-87d7b086def6",
   "metadata": {},
   "outputs": [],
   "source": []
  },
  {
   "cell_type": "code",
   "execution_count": null,
   "id": "b81cc5a6-f2d4-4451-bfcd-41b4efdeb959",
   "metadata": {},
   "outputs": [],
   "source": []
  }
 ],
 "metadata": {
  "kernelspec": {
   "display_name": "Python 3 (ipykernel)",
   "language": "python",
   "name": "python3"
  },
  "language_info": {
   "codemirror_mode": {
    "name": "ipython",
    "version": 3
   },
   "file_extension": ".py",
   "mimetype": "text/x-python",
   "name": "python",
   "nbconvert_exporter": "python",
   "pygments_lexer": "ipython3",
   "version": "3.12.7"
  }
 },
 "nbformat": 4,
 "nbformat_minor": 5
}
