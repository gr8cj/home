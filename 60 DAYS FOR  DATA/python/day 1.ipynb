{
 "cells": [
  {
   "cell_type": "code",
   "execution_count": null,
   "id": "6ca47213-9529-4ecc-ae63-a33147b2294f",
   "metadata": {},
   "outputs": [],
   "source": [
    "# Variable and datatypes\n",
    " "
   ]
  },
  {
   "cell_type": "code",
   "execution_count": null,
   "id": "7dd42ff8-6ac2-49f7-adf9-80b75f4b5509",
   "metadata": {},
   "outputs": [],
   "source": [
    "# variable-----' we dont ahve to find the key value that we have \n",
    "# to change when needed we can jut give\n",
    "# them a variable and a variable can store them and can be replace\""
   ]
  },
  {
   "cell_type": "code",
   "execution_count": null,
   "id": "8f83fe29-ed2e-4444-bb53-f139e025d358",
   "metadata": {},
   "outputs": [],
   "source": [
    "data type\n"
   ]
  },
  {
   "cell_type": "code",
   "execution_count": 1,
   "id": "340691b0-aa0a-4d9f-8a81-ae682e03c9fd",
   "metadata": {},
   "outputs": [
    {
     "name": "stdout",
     "output_type": "stream",
     "text": [
      "Hello world\n"
     ]
    }
   ],
   "source": [
    "print(\"Hello world\")"
   ]
  },
  {
   "cell_type": "code",
   "execution_count": 7,
   "id": "642eb07a-93e6-407f-a426-059b15841225",
   "metadata": {},
   "outputs": [
    {
     "name": "stdout",
     "output_type": "stream",
     "text": [
      "    /^|\n",
      "   /  |\n",
      "  /   |\n",
      " /    |\n",
      "/____ |\n"
     ]
    }
   ],
   "source": [
    "print(\"    /^|\")\n",
    "print(\"   /  |\")\n",
    "print(\"  /   |\")\n",
    "print(\" /    |\")\n",
    "print(\"/____ |\")"
   ]
  },
  {
   "cell_type": "code",
   "execution_count": 8,
   "id": "7d699fff-e978-48ee-8a2c-f14c3e4aee6c",
   "metadata": {},
   "outputs": [
    {
     "name": "stdout",
     "output_type": "stream",
     "text": [
      "There once was a man named George\n",
      "he was 70 years old\n",
      "He really liked the name George\n",
      "but didn't like being 70.\n"
     ]
    }
   ],
   "source": [
    "print(\"There once was a man named George\")\n",
    "print(\"he was 70 years old\")\n",
    "print(\"He really liked the name George\")\n",
    "print(\"but didn't like being 70.\")"
   ]
  },
  {
   "cell_type": "code",
   "execution_count": 12,
   "id": "f0971386-d358-4848-9cd0-9d45b84ecdf3",
   "metadata": {},
   "outputs": [
    {
     "name": "stdout",
     "output_type": "stream",
     "text": [
      "There once was a man named jhon\n",
      "he was 35 years old\n",
      "He really liked the name jhon\n",
      "but didn't like being 70.\n"
     ]
    }
   ],
   "source": [
    "character_name = \"Jhon\"\n",
    "chanracter_age= \"35\"\n",
    "print(\"There once was a man named jhon ,\")\n",
    "print(\"he was 35 years old.\")\n",
    "print(\"He really liked the name jhon,\")\n",
    "print(\"but didn't like being 70.\")"
   ]
  },
  {
   "cell_type": "code",
   "execution_count": 14,
   "id": "42d5f8e3-fca7-4dfd-983d-00f31c02c734",
   "metadata": {},
   "outputs": [
    {
     "name": "stdout",
     "output_type": "stream",
     "text": [
      "There once was a man named Jhon,\n",
      "he was 35 years old.\n",
      "He really liked the name Jhon,\n",
      "but didn't like being 70.\n"
     ]
    }
   ],
   "source": [
    "character_name = \"Jhon\"\n",
    "chanracter_age= \"35\"\n",
    "print(\"There once was a man named \"+ character_name + \",\")\n",
    "print(\"he was \"  + chanracter_age +\" years old.\")\n",
    "print(\"He really liked the name \" + character_name +\",\")\n",
    "print(\"but didn't like being 70.\")"
   ]
  },
  {
   "cell_type": "code",
   "execution_count": 15,
   "id": "8fb907ac-0848-41cd-9b3f-ca4f3756f0ab",
   "metadata": {},
   "outputs": [
    {
     "name": "stdout",
     "output_type": "stream",
     "text": [
      "There once was a man named Tom,\n",
      "he was 50 years old.\n",
      "He really liked the name Tom,\n",
      "but didn't like being 70.\n"
     ]
    }
   ],
   "source": [
    "character_name = \"Tom\"\n",
    "chanracter_age= \"50\"\n",
    "print(\"There once was a man named \"+ character_name + \",\")\n",
    "print(\"he was \"  + chanracter_age +\" years old.\")\n",
    "print(\"He really liked the name \" + character_name +\",\")\n",
    "print(\"but didn't like being 70.\")"
   ]
  },
  {
   "cell_type": "code",
   "execution_count": 17,
   "id": "6cfffc49-9afc-4c6e-a2ad-ba8159cfeaae",
   "metadata": {},
   "outputs": [
    {
     "name": "stdout",
     "output_type": "stream",
     "text": [
      "There once was a man named Tom,\n",
      "he was 50 years old.\n",
      "He really liked the name Mike,\n",
      "but didn't like being 50.\n"
     ]
    }
   ],
   "source": [
    "character_name = \"Tom\"\n",
    "chanracter_age= \"50\"\n",
    "print(\"There once was a man named \"+ character_name + \",\")\n",
    "print(\"he was \"  + chanracter_age +\" years old.\")\n",
    "character_name = \"Mike\"\n",
    "print(\"He really liked the name \" + character_name +\",\")\n",
    "print(\"but didn't like being \" + chanracter_age +\".\")"
   ]
  },
  {
   "cell_type": "markdown",
   "id": "fca6c5b1-1503-4f76-afca-94c0eb60a0f1",
   "metadata": {},
   "source": [
    "### DATA TYPE"
   ]
  },
  {
   "cell_type": "code",
   "execution_count": 21,
   "id": "0ceae258-4183-4ddc-a8ca-2bafbd9fe89a",
   "metadata": {},
   "outputs": [
    {
     "name": "stdout",
     "output_type": "stream",
     "text": [
      "There once was a man named Tom,\n",
      "he was 50 years old.\n",
      "He really liked the name Mike,\n",
      "but didn't like being 50.\n"
     ]
    }
   ],
   "source": [
    "character_name = \"Tom\" #String\n",
    "chanracter_age= \"50\" #50 #number\n",
    "is_male=False  #boolean\n",
    "print(\"There once was a man named \"+ character_name + \",\")\n",
    "print(\"he was \"  + chanracter_age +\" years old.\")\n",
    "character_name = \"Mike\"\n",
    "print(\"He really liked the name \" + character_name +\",\")\n",
    "print(\"but didn't like being \" + chanracter_age +\".\")"
   ]
  },
  {
   "cell_type": "markdown",
   "id": "ce55db3a-3d9f-4824-b245-c4bb00baccbf",
   "metadata": {},
   "source": [
    "### STRING"
   ]
  },
  {
   "cell_type": "code",
   "execution_count": 24,
   "id": "66206df6-5fcc-4818-9be0-eaa51d76bb0f",
   "metadata": {},
   "outputs": [
    {
     "name": "stdout",
     "output_type": "stream",
     "text": [
      "Giraffe \n",
      " Academy\n"
     ]
    }
   ],
   "source": [
    "print(\"Giraffe \\n Academy\")  #\\n this created a new line"
   ]
  },
  {
   "cell_type": "code",
   "execution_count": 26,
   "id": "ea3f34d5-0b96-4a00-af06-40626474f0cc",
   "metadata": {},
   "outputs": [
    {
     "name": "stdout",
     "output_type": "stream",
     "text": [
      "Giraffe \"Academy\"\n"
     ]
    }
   ],
   "source": [
    "print(\"Giraffe \\\"Academy\\\"\")  #\\n this created a scape character"
   ]
  },
  {
   "cell_type": "markdown",
   "id": "421354fb-10ad-42a3-8d00-21450d6ca06e",
   "metadata": {},
   "source": [
    "### SRTNIG VARIABLE"
   ]
  },
  {
   "cell_type": "code",
   "execution_count": 46,
   "id": "f5a7f539-c71b-47df-a24b-668da3129baf",
   "metadata": {},
   "outputs": [
    {
     "name": "stdout",
     "output_type": "stream",
     "text": [
      "Giraffe Academy\n",
      "Giraffe Academy is cool\n",
      "giraffe academy\n",
      "GIRAFFE ACADEMY\n",
      "False\n",
      "True\n",
      "15\n",
      "G\n",
      "y\n",
      "0\n",
      "8\n",
      "Elephant Academy\n"
     ]
    }
   ],
   "source": [
    "phrase =\"Giraffe Academy\"\n",
    "print(phrase)\n",
    "print(phrase+ \" is cool\") #concatination\n",
    "print(phrase.lower())\n",
    "print(phrase.upper())\n",
    "print(phrase.isupper())\n",
    "print(phrase.upper().isupper())\n",
    "print(len(phrase))\n",
    "print(phrase[0])\n",
    "print(phrase[-1])\n",
    "print(phrase.index(\"G\"))\n",
    "print(phrase.index(\"Acad\"))\n",
    "print(phrase.replace(\"Giraffe\",\"Elephant\"))\n",
    "\n",
    "# print(phrase.upper()[::])"
   ]
  },
  {
   "cell_type": "code",
   "execution_count": null,
   "id": "6760f5d5-9e8e-4ff1-b4b6-e4abd741e937",
   "metadata": {},
   "outputs": [],
   "source": []
  }
 ],
 "metadata": {
  "kernelspec": {
   "display_name": "Python 3 (ipykernel)",
   "language": "python",
   "name": "python3"
  },
  "language_info": {
   "codemirror_mode": {
    "name": "ipython",
    "version": 3
   },
   "file_extension": ".py",
   "mimetype": "text/x-python",
   "name": "python",
   "nbconvert_exporter": "python",
   "pygments_lexer": "ipython3",
   "version": "3.12.7"
  }
 },
 "nbformat": 4,
 "nbformat_minor": 5
}
