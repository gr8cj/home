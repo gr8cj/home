{
 "cells": [
  {
   "cell_type": "code",
   "execution_count": 1,
   "id": "2341e101-0d3d-46a7-becb-77f43043f9f0",
   "metadata": {},
   "outputs": [],
   "source": [
    "# Write 5 functions:\n",
    "\n",
    "# greet_user(name)\n",
    "\n",
    "# add(a, b)\n",
    "\n",
    "# square_list(lst)\n",
    "\n",
    "# is_even(num)\n",
    "\n",
    "# factorial(n)"
   ]
  },
  {
   "cell_type": "code",
   "execution_count": 6,
   "id": "021b77ca-fcfc-4ea5-b9a6-dffd4e7018d2",
   "metadata": {},
   "outputs": [
    {
     "name": "stdout",
     "output_type": "stream",
     "text": [
      "HIIIII ! how are you ayush jha.\n"
     ]
    }
   ],
   "source": [
    "# greet_user(name)\n",
    "def greet(name):\n",
    "    print(\"HIIIII ! how are you \" +name +\".\")\n",
    "\n",
    "greet(\"ayush jha\")"
   ]
  },
  {
   "cell_type": "code",
   "execution_count": 7,
   "id": "62189ee6-4789-4e62-aa35-30739c48e27c",
   "metadata": {},
   "outputs": [
    {
     "data": {
      "text/plain": [
       "10"
      ]
     },
     "execution_count": 7,
     "metadata": {},
     "output_type": "execute_result"
    }
   ],
   "source": [
    "# add(a, b)\n",
    "def add(a,b):\n",
    "    return a+b\n",
    "\n",
    "add(2,8)\n"
   ]
  },
  {
   "cell_type": "code",
   "execution_count": 9,
   "id": "37d774be-c677-48d6-ae66-399434ef9772",
   "metadata": {},
   "outputs": [
    {
     "data": {
      "text/plain": [
       "(4, 9, 16)"
      ]
     },
     "execution_count": 9,
     "metadata": {},
     "output_type": "execute_result"
    }
   ],
   "source": [
    "# square_list(lst)\n",
    "def square(a,b,c):\n",
    "    return a**2,b**2,c**2\n",
    "\n",
    "square(2,3,4)"
   ]
  },
  {
   "cell_type": "code",
   "execution_count": 11,
   "id": "0b6b073a-f856-4185-8167-2154e7967559",
   "metadata": {},
   "outputs": [
    {
     "data": {
      "text/plain": [
       "'even'"
      ]
     },
     "execution_count": 11,
     "metadata": {},
     "output_type": "execute_result"
    }
   ],
   "source": [
    "# is_even(num)\n",
    "\n",
    "def is_even(num):\n",
    "    if num%2==0:\n",
    "        return \"even\"\n",
    "    else:\n",
    "        return \"odd\"\n",
    "\n",
    "is_even(8)"
   ]
  },
  {
   "cell_type": "code",
   "execution_count": 2,
   "id": "51769243-fc74-40f4-b65d-86f8e9d84165",
   "metadata": {},
   "outputs": [],
   "source": [
    "# factorial(n)\n",
    "\n",
    "def factorial(num):\n",
    "    while num<=0:\n",
    "        a=num*num-1\n",
    "        num-1\n",
    "        print(a)\n",
    "factorial(8)"
   ]
  },
  {
   "cell_type": "markdown",
   "id": "e2872ad3-0e86-4992-95c2-46da70419bca",
   "metadata": {},
   "source": [
    "### calculator project "
   ]
  },
  {
   "cell_type": "code",
   "execution_count": 15,
   "id": "b677110f-97d9-4824-9fd0-3085e8bc1a91",
   "metadata": {},
   "outputs": [
    {
     "name": "stdin",
     "output_type": "stream",
     "text": [
      "enter your number 5\n",
      "enter your operator +\n",
      "enter your number 6\n"
     ]
    },
    {
     "name": "stdout",
     "output_type": "stream",
     "text": [
      "11.0\n"
     ]
    },
    {
     "name": "stdin",
     "output_type": "stream",
     "text": [
      "enter your number 4\n",
      "enter your operator 404\n",
      "enter your number 5\n"
     ]
    },
    {
     "name": "stdout",
     "output_type": "stream",
     "text": [
      "invalid operator\n"
     ]
    }
   ],
   "source": [
    "operator=\"9\"\n",
    "while operator!=\"404\" :\n",
    "    num1=float(input(\"enter your number\"))\n",
    "    operator=input(\"enter your operator\")\n",
    "    num2=float(input(\"enter your number\"))\n",
    "\n",
    "    if operator==\"+\":\n",
    "        print(num1+num2)\n",
    "    elif operator==\"-\" :\n",
    "        print(num1-num2)\n",
    "    elif operator==\"/\" :\n",
    "        print(num1/num2)\n",
    "    elif operator==\"*\":\n",
    "        print(num1*num2)\n",
    "    elif operator==\"**\":\n",
    "        print(num1**num2)\n",
    "    else:\n",
    "        print(\"invalid operator\")"
   ]
  },
  {
   "cell_type": "code",
   "execution_count": null,
   "id": "45692d5b-dd07-4e5c-bcc7-fe2469ae2b68",
   "metadata": {},
   "outputs": [],
   "source": []
  },
  {
   "cell_type": "code",
   "execution_count": 13,
   "id": "dded5016-0bc4-4b6d-b416-c3f8855ea2f9",
   "metadata": {},
   "outputs": [],
   "source": []
  },
  {
   "cell_type": "code",
   "execution_count": null,
   "id": "68c87205-5011-4861-bca9-7c8d2747960a",
   "metadata": {},
   "outputs": [],
   "source": []
  },
  {
   "cell_type": "code",
   "execution_count": null,
   "id": "c000e202-eb26-46dc-803c-43ae3dcd775a",
   "metadata": {},
   "outputs": [],
   "source": []
  }
 ],
 "metadata": {
  "kernelspec": {
   "display_name": "Python 3 (ipykernel)",
   "language": "python",
   "name": "python3"
  },
  "language_info": {
   "codemirror_mode": {
    "name": "ipython",
    "version": 3
   },
   "file_extension": ".py",
   "mimetype": "text/x-python",
   "name": "python",
   "nbconvert_exporter": "python",
   "pygments_lexer": "ipython3",
   "version": "3.12.7"
  }
 },
 "nbformat": 4,
 "nbformat_minor": 5
}
