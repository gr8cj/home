{
 "cells": [
  {
   "cell_type": "code",
   "execution_count": 3,
   "id": "9485bd2d-3282-44fa-92e3-9c1dceebdf74",
   "metadata": {},
   "outputs": [
    {
     "name": "stdout",
     "output_type": "stream",
     "text": [
      "29\n"
     ]
    }
   ],
   "source": [
    "import random\n",
    "print(random.randint(1,100))"
   ]
  },
  {
   "cell_type": "code",
   "execution_count": 12,
   "id": "3d60b281-76bc-4eec-9019-d51e215cbcee",
   "metadata": {},
   "outputs": [
    {
     "name": "stdin",
     "output_type": "stream",
     "text": [
      "enter your number \n"
     ]
    },
    {
     "ename": "ValueError",
     "evalue": "invalid literal for int() with base 10: ''",
     "output_type": "error",
     "traceback": [
      "\u001b[1;31m---------------------------------------------------------------------------\u001b[0m",
      "\u001b[1;31mValueError\u001b[0m                                Traceback (most recent call last)",
      "Cell \u001b[1;32mIn[12], line 15\u001b[0m\n\u001b[0;32m     13\u001b[0m             \u001b[38;5;28;01mbreak\u001b[39;00m\n\u001b[0;32m     14\u001b[0m     \u001b[38;5;28;01mreturn\u001b[39;00m guess\n\u001b[1;32m---> 15\u001b[0m guess_game(\u001b[38;5;241m8\u001b[39m)\n",
      "Cell \u001b[1;32mIn[12], line 6\u001b[0m, in \u001b[0;36mguess_game\u001b[1;34m(guess)\u001b[0m\n\u001b[0;32m      4\u001b[0m correct \u001b[38;5;241m=\u001b[39mrandom\u001b[38;5;241m.\u001b[39mrandint(\u001b[38;5;241m1\u001b[39m,\u001b[38;5;241m100\u001b[39m)\n\u001b[0;32m      5\u001b[0m \u001b[38;5;28;01mwhile\u001b[39;00m guess\u001b[38;5;241m!=\u001b[39mcorrect:\n\u001b[1;32m----> 6\u001b[0m     guess\u001b[38;5;241m=\u001b[39m\u001b[38;5;28mint\u001b[39m(\u001b[38;5;28minput\u001b[39m(\u001b[38;5;124m\"\u001b[39m\u001b[38;5;124menter your number\u001b[39m\u001b[38;5;124m\"\u001b[39m))\n\u001b[0;32m      7\u001b[0m     \u001b[38;5;28;01mif\u001b[39;00m guess \u001b[38;5;241m>\u001b[39mcorrect:\n\u001b[0;32m      8\u001b[0m         \u001b[38;5;28mprint\u001b[39m(\u001b[38;5;124m\"\u001b[39m\u001b[38;5;124mtoo high\u001b[39m\u001b[38;5;124m\"\u001b[39m)\n",
      "\u001b[1;31mValueError\u001b[0m: invalid literal for int() with base 10: ''"
     ]
    }
   ],
   "source": [
    "def guess_game(guess):\n",
    "    guess=0\n",
    "    \n",
    "    correct =random.randint(1,100)\n",
    "    while guess!=correct:\n",
    "        guess=int(input(\"enter your number\"))\n",
    "        if guess >correct:\n",
    "            print(\"too high\")\n",
    "        elif guess<correct:\n",
    "            print(\"its too loow\")\n",
    "        else:\n",
    "            print(\"woooho you got iit\")\n",
    "            break\n",
    "    return guess\n",
    "guess_game(8)\n",
    "    "
   ]
  },
  {
   "cell_type": "code",
   "execution_count": 13,
   "id": "b4059c81-f59a-4b0a-b470-f05fc455f5fd",
   "metadata": {},
   "outputs": [
    {
     "data": {
      "text/plain": [
       "'odd'"
      ]
     },
     "execution_count": 13,
     "metadata": {},
     "output_type": "execute_result"
    }
   ],
   "source": [
    "def check(num):\n",
    "    if num//2==0:\n",
    "        return \"even\"\n",
    "    else:\n",
    "        return  \"odd\"\n",
    "\n",
    "check(3)"
   ]
  },
  {
   "cell_type": "code",
   "execution_count": 20,
   "id": "0809e2e6-c89e-432d-a762-9237a18cdacb",
   "metadata": {},
   "outputs": [
    {
     "name": "stdout",
     "output_type": "stream",
     "text": [
      "Voter can vote\n"
     ]
    }
   ],
   "source": [
    "# age=int(input(\"enter your age\"))\n",
    "def voter(age):\n",
    "    if age >18:\n",
    "        \n",
    "        if age >100:\n",
    "            print(\"you alive\")\n",
    "        print( \"Voter can vote\")\n",
    "    else:\n",
    "        print(\"you are not a voter\")\n",
    "voter(age)"
   ]
  },
  {
   "cell_type": "markdown",
   "id": "1417fbcc-ed83-46da-a8a0-28cc4c0857c5",
   "metadata": {},
   "source": [
    "###### kjcfgdd"
   ]
  },
  {
   "cell_type": "code",
   "execution_count": 23,
   "id": "333bc358-be6d-4a4a-a575-dce77dfcf671",
   "metadata": {},
   "outputs": [
    {
     "ename": "TypeError",
     "evalue": "unsupported operand type(s) for +: 'int' and 'str'",
     "output_type": "error",
     "traceback": [
      "\u001b[1;31m---------------------------------------------------------------------------\u001b[0m",
      "\u001b[1;31mTypeError\u001b[0m                                 Traceback (most recent call last)",
      "Cell \u001b[1;32mIn[23], line 7\u001b[0m\n\u001b[0;32m      4\u001b[0m     \u001b[38;5;28;01melse\u001b[39;00m:\n\u001b[0;32m      5\u001b[0m         \u001b[38;5;28mprint\u001b[39m(num2 \u001b[38;5;241m+\u001b[39m \u001b[38;5;124m\"\u001b[39m\u001b[38;5;124m is bigger\u001b[39m\u001b[38;5;124m\"\u001b[39m)\n\u001b[1;32m----> 7\u001b[0m bigger(\u001b[38;5;241m6\u001b[39m,\u001b[38;5;241m7\u001b[39m)\n",
      "Cell \u001b[1;32mIn[23], line 5\u001b[0m, in \u001b[0;36mbigger\u001b[1;34m(num1, num2)\u001b[0m\n\u001b[0;32m      3\u001b[0m     \u001b[38;5;28mprint\u001b[39m(num1 , \u001b[38;5;124m\"\u001b[39m\u001b[38;5;124m is bigger\u001b[39m\u001b[38;5;124m\"\u001b[39m)\n\u001b[0;32m      4\u001b[0m \u001b[38;5;28;01melse\u001b[39;00m:\n\u001b[1;32m----> 5\u001b[0m     \u001b[38;5;28mprint\u001b[39m(num2 \u001b[38;5;241m+\u001b[39m \u001b[38;5;124m\"\u001b[39m\u001b[38;5;124m is bigger\u001b[39m\u001b[38;5;124m\"\u001b[39m)\n",
      "\u001b[1;31mTypeError\u001b[0m: unsupported operand type(s) for +: 'int' and 'str'"
     ]
    }
   ],
   "source": [
    "def bigger(num1,num2):\n",
    "    if num1 >num2:\n",
    "        print(num1 , \" is bigger\")\n",
    "    else:\n",
    "        print(num2 + \" is bigger\")\n",
    "\n",
    "bigger(6,7)"
   ]
  },
  {
   "cell_type": "code",
   "execution_count": null,
   "id": "7793a699-aa3a-4a54-b910-b79df4c9b5df",
   "metadata": {},
   "outputs": [],
   "source": []
  }
 ],
 "metadata": {
  "kernelspec": {
   "display_name": "Python 3 (ipykernel)",
   "language": "python",
   "name": "python3"
  },
  "language_info": {
   "codemirror_mode": {
    "name": "ipython",
    "version": 3
   },
   "file_extension": ".py",
   "mimetype": "text/x-python",
   "name": "python",
   "nbconvert_exporter": "python",
   "pygments_lexer": "ipython3",
   "version": "3.12.7"
  }
 },
 "nbformat": 4,
 "nbformat_minor": 5
}
